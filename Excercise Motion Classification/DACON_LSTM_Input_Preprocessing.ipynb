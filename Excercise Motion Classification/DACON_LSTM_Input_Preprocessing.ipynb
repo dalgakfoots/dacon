{
  "nbformat": 4,
  "nbformat_minor": 0,
  "metadata": {
    "accelerator": "GPU",
    "colab": {
      "name": "DACON_SAPJIL.ipynb",
      "provenance": [],
      "collapsed_sections": []
    },
    "kernelspec": {
      "display_name": "Python 3",
      "name": "python3"
    }
  },
  "cells": [
    {
      "cell_type": "code",
      "metadata": {
        "id": "cJkFI5YSuYVP"
      },
      "source": [
        "import torch\r\n",
        "\r\n",
        "import copy\r\n",
        "import numpy as np\r\n",
        "import pandas as pd\r\n",
        "import seaborn as sns\r\n",
        "from pylab import rcParams\r\n",
        "import matplotlib.pyplot as plt\r\n",
        "from matplotlib import rc\r\n",
        "from sklearn.model_selection import train_test_split\r\n",
        "import sklearn.metrics as metrics\r\n",
        "from torch import nn, optim\r\n",
        "\r\n",
        "import torch.nn.functional as F"
      ],
      "execution_count": null,
      "outputs": []
    },
    {
      "cell_type": "code",
      "metadata": {
        "id": "zk4irPeduqkv"
      },
      "source": [
        "device = torch.device('cuda' if torch.cuda.is_available() else 'cpu')"
      ],
      "execution_count": null,
      "outputs": []
    },
    {
      "cell_type": "code",
      "metadata": {
        "colab": {
          "base_uri": "https://localhost:8080/"
        },
        "id": "0li6QnsXu8FP",
        "outputId": "3871cff7-1def-4025-9414-be4fbedd6a23"
      },
      "source": [
        "device"
      ],
      "execution_count": null,
      "outputs": [
        {
          "output_type": "execute_result",
          "data": {
            "text/plain": [
              "device(type='cuda')"
            ]
          },
          "metadata": {
            "tags": []
          },
          "execution_count": 3
        }
      ]
    },
    {
      "cell_type": "code",
      "metadata": {
        "id": "AJmRiUMUzrlM"
      },
      "source": [
        "train = pd.read_csv('/content/drive/MyDrive/DACON/train_features.csv')"
      ],
      "execution_count": null,
      "outputs": []
    },
    {
      "cell_type": "code",
      "metadata": {
        "id": "5IDR_Vxg0kOk"
      },
      "source": [
        "target = pd.read_csv('/content/drive/MyDrive/DACON/train_labels.csv')\r\n",
        "train_labels = target"
      ],
      "execution_count": null,
      "outputs": []
    },
    {
      "cell_type": "code",
      "metadata": {
        "id": "Tvs8Rt99wMC4"
      },
      "source": [
        "test = pd.read_csv('/content/drive/MyDrive/DACON/test_features.csv')\r\n",
        "submission = pd.read_csv('/content/drive/MyDrive/DACON/sample_submission.csv')"
      ],
      "execution_count": null,
      "outputs": []
    },
    {
      "cell_type": "code",
      "metadata": {
        "colab": {
          "base_uri": "https://localhost:8080/",
          "height": 419
        },
        "id": "6Mjb8elXVsqJ",
        "outputId": "ef8eb964-ae33-41c1-f56c-60b6b9886caf"
      },
      "source": [
        "train"
      ],
      "execution_count": null,
      "outputs": [
        {
          "output_type": "execute_result",
          "data": {
            "text/html": [
              "<div>\n",
              "<style scoped>\n",
              "    .dataframe tbody tr th:only-of-type {\n",
              "        vertical-align: middle;\n",
              "    }\n",
              "\n",
              "    .dataframe tbody tr th {\n",
              "        vertical-align: top;\n",
              "    }\n",
              "\n",
              "    .dataframe thead th {\n",
              "        text-align: right;\n",
              "    }\n",
              "</style>\n",
              "<table border=\"1\" class=\"dataframe\">\n",
              "  <thead>\n",
              "    <tr style=\"text-align: right;\">\n",
              "      <th></th>\n",
              "      <th>id</th>\n",
              "      <th>time</th>\n",
              "      <th>acc_x</th>\n",
              "      <th>acc_y</th>\n",
              "      <th>acc_z</th>\n",
              "      <th>gy_x</th>\n",
              "      <th>gy_y</th>\n",
              "      <th>gy_z</th>\n",
              "    </tr>\n",
              "  </thead>\n",
              "  <tbody>\n",
              "    <tr>\n",
              "      <th>0</th>\n",
              "      <td>0</td>\n",
              "      <td>0</td>\n",
              "      <td>1.206087</td>\n",
              "      <td>-0.179371</td>\n",
              "      <td>-0.148447</td>\n",
              "      <td>-0.591608</td>\n",
              "      <td>-30.549010</td>\n",
              "      <td>-31.676112</td>\n",
              "    </tr>\n",
              "    <tr>\n",
              "      <th>1</th>\n",
              "      <td>0</td>\n",
              "      <td>1</td>\n",
              "      <td>1.287696</td>\n",
              "      <td>-0.198974</td>\n",
              "      <td>-0.182444</td>\n",
              "      <td>0.303100</td>\n",
              "      <td>-39.139103</td>\n",
              "      <td>-24.927216</td>\n",
              "    </tr>\n",
              "    <tr>\n",
              "      <th>2</th>\n",
              "      <td>0</td>\n",
              "      <td>2</td>\n",
              "      <td>1.304609</td>\n",
              "      <td>-0.195114</td>\n",
              "      <td>-0.253382</td>\n",
              "      <td>-3.617278</td>\n",
              "      <td>-44.122565</td>\n",
              "      <td>-25.019629</td>\n",
              "    </tr>\n",
              "    <tr>\n",
              "      <th>3</th>\n",
              "      <td>0</td>\n",
              "      <td>3</td>\n",
              "      <td>1.293095</td>\n",
              "      <td>-0.230366</td>\n",
              "      <td>-0.215210</td>\n",
              "      <td>2.712986</td>\n",
              "      <td>-53.597843</td>\n",
              "      <td>-27.454013</td>\n",
              "    </tr>\n",
              "    <tr>\n",
              "      <th>4</th>\n",
              "      <td>0</td>\n",
              "      <td>4</td>\n",
              "      <td>1.300887</td>\n",
              "      <td>-0.187757</td>\n",
              "      <td>-0.222523</td>\n",
              "      <td>4.286707</td>\n",
              "      <td>-57.906561</td>\n",
              "      <td>-27.961234</td>\n",
              "    </tr>\n",
              "    <tr>\n",
              "      <th>...</th>\n",
              "      <td>...</td>\n",
              "      <td>...</td>\n",
              "      <td>...</td>\n",
              "      <td>...</td>\n",
              "      <td>...</td>\n",
              "      <td>...</td>\n",
              "      <td>...</td>\n",
              "      <td>...</td>\n",
              "    </tr>\n",
              "    <tr>\n",
              "      <th>1874995</th>\n",
              "      <td>3124</td>\n",
              "      <td>595</td>\n",
              "      <td>-0.712530</td>\n",
              "      <td>-0.658357</td>\n",
              "      <td>0.293707</td>\n",
              "      <td>-29.367857</td>\n",
              "      <td>-104.013664</td>\n",
              "      <td>-76.290437</td>\n",
              "    </tr>\n",
              "    <tr>\n",
              "      <th>1874996</th>\n",
              "      <td>3124</td>\n",
              "      <td>596</td>\n",
              "      <td>-0.683037</td>\n",
              "      <td>-0.658466</td>\n",
              "      <td>0.329223</td>\n",
              "      <td>-30.149089</td>\n",
              "      <td>-101.796809</td>\n",
              "      <td>-76.625087</td>\n",
              "    </tr>\n",
              "    <tr>\n",
              "      <th>1874997</th>\n",
              "      <td>3124</td>\n",
              "      <td>597</td>\n",
              "      <td>-0.664730</td>\n",
              "      <td>-0.666625</td>\n",
              "      <td>0.364114</td>\n",
              "      <td>-27.873095</td>\n",
              "      <td>-98.776072</td>\n",
              "      <td>-79.365125</td>\n",
              "    </tr>\n",
              "    <tr>\n",
              "      <th>1874998</th>\n",
              "      <td>3124</td>\n",
              "      <td>598</td>\n",
              "      <td>-0.630534</td>\n",
              "      <td>-0.682565</td>\n",
              "      <td>0.373696</td>\n",
              "      <td>-23.636550</td>\n",
              "      <td>-99.139495</td>\n",
              "      <td>-80.259478</td>\n",
              "    </tr>\n",
              "    <tr>\n",
              "      <th>1874999</th>\n",
              "      <td>3124</td>\n",
              "      <td>599</td>\n",
              "      <td>-0.578351</td>\n",
              "      <td>-0.700235</td>\n",
              "      <td>0.384390</td>\n",
              "      <td>-17.917626</td>\n",
              "      <td>-100.181873</td>\n",
              "      <td>-80.676229</td>\n",
              "    </tr>\n",
              "  </tbody>\n",
              "</table>\n",
              "<p>1875000 rows × 8 columns</p>\n",
              "</div>"
            ],
            "text/plain": [
              "           id  time     acc_x  ...       gy_x        gy_y       gy_z\n",
              "0           0     0  1.206087  ...  -0.591608  -30.549010 -31.676112\n",
              "1           0     1  1.287696  ...   0.303100  -39.139103 -24.927216\n",
              "2           0     2  1.304609  ...  -3.617278  -44.122565 -25.019629\n",
              "3           0     3  1.293095  ...   2.712986  -53.597843 -27.454013\n",
              "4           0     4  1.300887  ...   4.286707  -57.906561 -27.961234\n",
              "...       ...   ...       ...  ...        ...         ...        ...\n",
              "1874995  3124   595 -0.712530  ... -29.367857 -104.013664 -76.290437\n",
              "1874996  3124   596 -0.683037  ... -30.149089 -101.796809 -76.625087\n",
              "1874997  3124   597 -0.664730  ... -27.873095  -98.776072 -79.365125\n",
              "1874998  3124   598 -0.630534  ... -23.636550  -99.139495 -80.259478\n",
              "1874999  3124   599 -0.578351  ... -17.917626 -100.181873 -80.676229\n",
              "\n",
              "[1875000 rows x 8 columns]"
            ]
          },
          "metadata": {
            "tags": []
          },
          "execution_count": 7
        }
      ]
    },
    {
      "cell_type": "code",
      "metadata": {
        "id": "NOuVMrxtvZjw"
      },
      "source": [
        "train_ = train.copy()"
      ],
      "execution_count": null,
      "outputs": []
    },
    {
      "cell_type": "code",
      "metadata": {
        "id": "deqPaSdykPGV"
      },
      "source": [
        "# train_ 데이터프레임에 group 컬럼을 추가한다.\r\n",
        "\r\n",
        "train_['group'] = 1\r\n",
        "\r\n",
        "#train_['group'] = np.where(train_['time'] <= 600 , 1, 0)"
      ],
      "execution_count": null,
      "outputs": []
    },
    {
      "cell_type": "code",
      "metadata": {
        "id": "eH7hyWWCmnem"
      },
      "source": [
        "for i in range(59 , -1 , -1):\r\n",
        "  train_.loc[(train_.time < (i+1)*10), 'group'] = i\r\n",
        "  \r\n",
        "# 0 ~ 9\r\n",
        "# 10 ~ 19\r\n",
        "# 20 ~ 29\r\n",
        "# 30 ~ 39\r\n",
        "# ...\r\n",
        "# 590 ~ 599"
      ],
      "execution_count": null,
      "outputs": []
    },
    {
      "cell_type": "code",
      "metadata": {
        "id": "cCsFI3bRoGMc"
      },
      "source": [
        "group_train_ = train_.groupby(['id', 'group'])"
      ],
      "execution_count": null,
      "outputs": []
    },
    {
      "cell_type": "code",
      "metadata": {
        "id": "JTf7mEFs36dK"
      },
      "source": [
        "df =  pd.DataFrame(group_train_.mean())"
      ],
      "execution_count": null,
      "outputs": []
    },
    {
      "cell_type": "code",
      "metadata": {
        "colab": {
          "base_uri": "https://localhost:8080/",
          "height": 450
        },
        "id": "VnzEBMWu4KDC",
        "outputId": "bd303306-bba8-46a8-c9db-a55b80b80db9"
      },
      "source": [
        "df.drop(['time'], axis = 1)"
      ],
      "execution_count": null,
      "outputs": [
        {
          "output_type": "execute_result",
          "data": {
            "text/html": [
              "<div>\n",
              "<style scoped>\n",
              "    .dataframe tbody tr th:only-of-type {\n",
              "        vertical-align: middle;\n",
              "    }\n",
              "\n",
              "    .dataframe tbody tr th {\n",
              "        vertical-align: top;\n",
              "    }\n",
              "\n",
              "    .dataframe thead th {\n",
              "        text-align: right;\n",
              "    }\n",
              "</style>\n",
              "<table border=\"1\" class=\"dataframe\">\n",
              "  <thead>\n",
              "    <tr style=\"text-align: right;\">\n",
              "      <th></th>\n",
              "      <th></th>\n",
              "      <th>acc_x</th>\n",
              "      <th>acc_y</th>\n",
              "      <th>acc_z</th>\n",
              "      <th>gy_x</th>\n",
              "      <th>gy_y</th>\n",
              "      <th>gy_z</th>\n",
              "    </tr>\n",
              "    <tr>\n",
              "      <th>id</th>\n",
              "      <th>group</th>\n",
              "      <th></th>\n",
              "      <th></th>\n",
              "      <th></th>\n",
              "      <th></th>\n",
              "      <th></th>\n",
              "      <th></th>\n",
              "    </tr>\n",
              "  </thead>\n",
              "  <tbody>\n",
              "    <tr>\n",
              "      <th rowspan=\"5\" valign=\"top\">0</th>\n",
              "      <th>0</th>\n",
              "      <td>1.251791</td>\n",
              "      <td>-0.229154</td>\n",
              "      <td>-0.232241</td>\n",
              "      <td>5.313051</td>\n",
              "      <td>-59.202390</td>\n",
              "      <td>-29.109459</td>\n",
              "    </tr>\n",
              "    <tr>\n",
              "      <th>1</th>\n",
              "      <td>1.068298</td>\n",
              "      <td>-0.197191</td>\n",
              "      <td>-0.269734</td>\n",
              "      <td>5.586739</td>\n",
              "      <td>-42.667238</td>\n",
              "      <td>-16.549480</td>\n",
              "    </tr>\n",
              "    <tr>\n",
              "      <th>2</th>\n",
              "      <td>0.722119</td>\n",
              "      <td>-0.114564</td>\n",
              "      <td>-0.339607</td>\n",
              "      <td>-11.819742</td>\n",
              "      <td>6.212027</td>\n",
              "      <td>18.009191</td>\n",
              "    </tr>\n",
              "    <tr>\n",
              "      <th>3</th>\n",
              "      <td>0.679590</td>\n",
              "      <td>0.016110</td>\n",
              "      <td>-0.555735</td>\n",
              "      <td>-3.625908</td>\n",
              "      <td>4.789341</td>\n",
              "      <td>11.917563</td>\n",
              "    </tr>\n",
              "    <tr>\n",
              "      <th>4</th>\n",
              "      <td>0.742513</td>\n",
              "      <td>-0.027839</td>\n",
              "      <td>-0.583247</td>\n",
              "      <td>-16.800999</td>\n",
              "      <td>-12.506986</td>\n",
              "      <td>3.754061</td>\n",
              "    </tr>\n",
              "    <tr>\n",
              "      <th>...</th>\n",
              "      <th>...</th>\n",
              "      <td>...</td>\n",
              "      <td>...</td>\n",
              "      <td>...</td>\n",
              "      <td>...</td>\n",
              "      <td>...</td>\n",
              "      <td>...</td>\n",
              "    </tr>\n",
              "    <tr>\n",
              "      <th rowspan=\"5\" valign=\"top\">3124</th>\n",
              "      <th>55</th>\n",
              "      <td>-0.961550</td>\n",
              "      <td>-0.317255</td>\n",
              "      <td>-0.275331</td>\n",
              "      <td>8.033097</td>\n",
              "      <td>56.305529</td>\n",
              "      <td>20.814754</td>\n",
              "    </tr>\n",
              "    <tr>\n",
              "      <th>56</th>\n",
              "      <td>-0.969101</td>\n",
              "      <td>-0.290030</td>\n",
              "      <td>-0.259020</td>\n",
              "      <td>-1.682063</td>\n",
              "      <td>2.838185</td>\n",
              "      <td>1.094412</td>\n",
              "    </tr>\n",
              "    <tr>\n",
              "      <th>57</th>\n",
              "      <td>-0.971646</td>\n",
              "      <td>-0.339630</td>\n",
              "      <td>-0.166837</td>\n",
              "      <td>-9.983776</td>\n",
              "      <td>-59.722361</td>\n",
              "      <td>-25.377563</td>\n",
              "    </tr>\n",
              "    <tr>\n",
              "      <th>58</th>\n",
              "      <td>-0.929038</td>\n",
              "      <td>-0.440118</td>\n",
              "      <td>0.049172</td>\n",
              "      <td>-8.414001</td>\n",
              "      <td>-94.243835</td>\n",
              "      <td>-55.653302</td>\n",
              "    </tr>\n",
              "    <tr>\n",
              "      <th>59</th>\n",
              "      <td>-0.725891</td>\n",
              "      <td>-0.644950</td>\n",
              "      <td>0.288444</td>\n",
              "      <td>-23.531633</td>\n",
              "      <td>-101.818319</td>\n",
              "      <td>-75.885761</td>\n",
              "    </tr>\n",
              "  </tbody>\n",
              "</table>\n",
              "<p>187500 rows × 6 columns</p>\n",
              "</div>"
            ],
            "text/plain": [
              "               acc_x     acc_y     acc_z       gy_x        gy_y       gy_z\n",
              "id   group                                                                \n",
              "0    0      1.251791 -0.229154 -0.232241   5.313051  -59.202390 -29.109459\n",
              "     1      1.068298 -0.197191 -0.269734   5.586739  -42.667238 -16.549480\n",
              "     2      0.722119 -0.114564 -0.339607 -11.819742    6.212027  18.009191\n",
              "     3      0.679590  0.016110 -0.555735  -3.625908    4.789341  11.917563\n",
              "     4      0.742513 -0.027839 -0.583247 -16.800999  -12.506986   3.754061\n",
              "...              ...       ...       ...        ...         ...        ...\n",
              "3124 55    -0.961550 -0.317255 -0.275331   8.033097   56.305529  20.814754\n",
              "     56    -0.969101 -0.290030 -0.259020  -1.682063    2.838185   1.094412\n",
              "     57    -0.971646 -0.339630 -0.166837  -9.983776  -59.722361 -25.377563\n",
              "     58    -0.929038 -0.440118  0.049172  -8.414001  -94.243835 -55.653302\n",
              "     59    -0.725891 -0.644950  0.288444 -23.531633 -101.818319 -75.885761\n",
              "\n",
              "[187500 rows x 6 columns]"
            ]
          },
          "metadata": {
            "tags": []
          },
          "execution_count": 13
        }
      ]
    },
    {
      "cell_type": "code",
      "metadata": {
        "id": "0MVZSPzR6RMJ"
      },
      "source": [
        "df = df.drop(['time'], axis = 1)"
      ],
      "execution_count": null,
      "outputs": []
    },
    {
      "cell_type": "code",
      "metadata": {
        "colab": {
          "base_uri": "https://localhost:8080/"
        },
        "id": "WVacZGtQ6dNG",
        "outputId": "306a8958-b2d3-42ce-de8c-3c2b2c2e1dfb"
      },
      "source": [
        "df.shape"
      ],
      "execution_count": null,
      "outputs": [
        {
          "output_type": "execute_result",
          "data": {
            "text/plain": [
              "(187500, 6)"
            ]
          },
          "metadata": {
            "tags": []
          },
          "execution_count": 15
        }
      ]
    },
    {
      "cell_type": "code",
      "metadata": {
        "id": "TnJu25pMw52r"
      },
      "source": [
        "X = torch.FloatTensor(df.values).view(-1, 60, 6)"
      ],
      "execution_count": null,
      "outputs": []
    },
    {
      "cell_type": "code",
      "metadata": {
        "colab": {
          "base_uri": "https://localhost:8080/"
        },
        "id": "cD3ialF_6vwu",
        "outputId": "378d4bc3-03db-4da9-d517-185a848a64ae"
      },
      "source": [
        "X.shape"
      ],
      "execution_count": null,
      "outputs": [
        {
          "output_type": "execute_result",
          "data": {
            "text/plain": [
              "torch.Size([3125, 60, 6])"
            ]
          },
          "metadata": {
            "tags": []
          },
          "execution_count": 17
        }
      ]
    },
    {
      "cell_type": "code",
      "metadata": {
        "colab": {
          "base_uri": "https://localhost:8080/",
          "height": 419
        },
        "id": "vqB16Zfr66mV",
        "outputId": "cefe5d73-aba8-437c-db0e-e08362021659"
      },
      "source": [
        "train_labels"
      ],
      "execution_count": null,
      "outputs": [
        {
          "output_type": "execute_result",
          "data": {
            "text/html": [
              "<div>\n",
              "<style scoped>\n",
              "    .dataframe tbody tr th:only-of-type {\n",
              "        vertical-align: middle;\n",
              "    }\n",
              "\n",
              "    .dataframe tbody tr th {\n",
              "        vertical-align: top;\n",
              "    }\n",
              "\n",
              "    .dataframe thead th {\n",
              "        text-align: right;\n",
              "    }\n",
              "</style>\n",
              "<table border=\"1\" class=\"dataframe\">\n",
              "  <thead>\n",
              "    <tr style=\"text-align: right;\">\n",
              "      <th></th>\n",
              "      <th>id</th>\n",
              "      <th>label</th>\n",
              "      <th>label_desc</th>\n",
              "    </tr>\n",
              "  </thead>\n",
              "  <tbody>\n",
              "    <tr>\n",
              "      <th>0</th>\n",
              "      <td>0</td>\n",
              "      <td>37</td>\n",
              "      <td>Shoulder Press (dumbbell)</td>\n",
              "    </tr>\n",
              "    <tr>\n",
              "      <th>1</th>\n",
              "      <td>1</td>\n",
              "      <td>26</td>\n",
              "      <td>Non-Exercise</td>\n",
              "    </tr>\n",
              "    <tr>\n",
              "      <th>2</th>\n",
              "      <td>2</td>\n",
              "      <td>3</td>\n",
              "      <td>Biceps Curl (band)</td>\n",
              "    </tr>\n",
              "    <tr>\n",
              "      <th>3</th>\n",
              "      <td>3</td>\n",
              "      <td>26</td>\n",
              "      <td>Non-Exercise</td>\n",
              "    </tr>\n",
              "    <tr>\n",
              "      <th>4</th>\n",
              "      <td>4</td>\n",
              "      <td>26</td>\n",
              "      <td>Non-Exercise</td>\n",
              "    </tr>\n",
              "    <tr>\n",
              "      <th>...</th>\n",
              "      <td>...</td>\n",
              "      <td>...</td>\n",
              "      <td>...</td>\n",
              "    </tr>\n",
              "    <tr>\n",
              "      <th>3120</th>\n",
              "      <td>3120</td>\n",
              "      <td>26</td>\n",
              "      <td>Non-Exercise</td>\n",
              "    </tr>\n",
              "    <tr>\n",
              "      <th>3121</th>\n",
              "      <td>3121</td>\n",
              "      <td>26</td>\n",
              "      <td>Non-Exercise</td>\n",
              "    </tr>\n",
              "    <tr>\n",
              "      <th>3122</th>\n",
              "      <td>3122</td>\n",
              "      <td>15</td>\n",
              "      <td>Dynamic Stretch (at your own pace)</td>\n",
              "    </tr>\n",
              "    <tr>\n",
              "      <th>3123</th>\n",
              "      <td>3123</td>\n",
              "      <td>26</td>\n",
              "      <td>Non-Exercise</td>\n",
              "    </tr>\n",
              "    <tr>\n",
              "      <th>3124</th>\n",
              "      <td>3124</td>\n",
              "      <td>2</td>\n",
              "      <td>Bicep Curl</td>\n",
              "    </tr>\n",
              "  </tbody>\n",
              "</table>\n",
              "<p>3125 rows × 3 columns</p>\n",
              "</div>"
            ],
            "text/plain": [
              "        id  label                          label_desc\n",
              "0        0     37           Shoulder Press (dumbbell)\n",
              "1        1     26                        Non-Exercise\n",
              "2        2      3                  Biceps Curl (band)\n",
              "3        3     26                        Non-Exercise\n",
              "4        4     26                        Non-Exercise\n",
              "...    ...    ...                                 ...\n",
              "3120  3120     26                        Non-Exercise\n",
              "3121  3121     26                        Non-Exercise\n",
              "3122  3122     15  Dynamic Stretch (at your own pace)\n",
              "3123  3123     26                        Non-Exercise\n",
              "3124  3124      2                          Bicep Curl\n",
              "\n",
              "[3125 rows x 3 columns]"
            ]
          },
          "metadata": {
            "tags": []
          },
          "execution_count": 18
        }
      ]
    },
    {
      "cell_type": "code",
      "metadata": {
        "id": "kLZD8hFFxFMw"
      },
      "source": [
        "y = torch.FloatTensor(train_labels['label'].values)"
      ],
      "execution_count": null,
      "outputs": []
    },
    {
      "cell_type": "code",
      "metadata": {
        "colab": {
          "base_uri": "https://localhost:8080/"
        },
        "id": "pZkMnQQb2v9D",
        "outputId": "561524b0-4fc2-47da-f7e9-873a9bbd434a"
      },
      "source": [
        "y.shape"
      ],
      "execution_count": null,
      "outputs": [
        {
          "output_type": "execute_result",
          "data": {
            "text/plain": [
              "torch.Size([3125])"
            ]
          },
          "metadata": {
            "tags": []
          },
          "execution_count": 20
        }
      ]
    },
    {
      "cell_type": "code",
      "metadata": {
        "id": "EnYTH-GFxbhu"
      },
      "source": [
        "def to_categorical(y, num_classes):\r\n",
        "    \"\"\" 1-hot encodes a tensor \"\"\"\r\n",
        "    return np.eye(num_classes, dtype='uint8')[y]"
      ],
      "execution_count": null,
      "outputs": []
    },
    {
      "cell_type": "code",
      "metadata": {
        "id": "lh65JLBcxdO7"
      },
      "source": [
        "y = y.view(-1, 1)"
      ],
      "execution_count": null,
      "outputs": []
    },
    {
      "cell_type": "code",
      "metadata": {
        "colab": {
          "base_uri": "https://localhost:8080/"
        },
        "id": "30pEQ3L8z77e",
        "outputId": "7fc4aa5d-1b09-4d7b-a3e8-246cc930a601"
      },
      "source": [
        "y.shape"
      ],
      "execution_count": null,
      "outputs": [
        {
          "output_type": "execute_result",
          "data": {
            "text/plain": [
              "torch.Size([3125, 1])"
            ]
          },
          "metadata": {
            "tags": []
          },
          "execution_count": 23
        }
      ]
    },
    {
      "cell_type": "code",
      "metadata": {
        "id": "JLrrfUz30AAH"
      },
      "source": [
        "class Net(torch.nn.Module):\r\n",
        "  def __init__(self , input_size , hidden_size):\r\n",
        "    super(Net, self).__init__()\r\n",
        "    self.lstm = torch.nn.LSTM(input_size , hidden_size , batch_first= True)\r\n",
        "    self.fc1 = torch.nn.Linear(hidden_size , 128 , bias = True)\r\n",
        "    self.relu = torch.nn.ReLU()\r\n",
        "    self.fc2 = torch.nn.Linear(128,61 ,bias = True)\r\n",
        "\r\n",
        "  def forward(self, x):\r\n",
        "    x, _status = self.lstm(x)\r\n",
        "    x = self.fc1(x)\r\n",
        "    x = self.relu(x)\r\n",
        "    x = self.fc2(x)\r\n",
        "    return x"
      ],
      "execution_count": null,
      "outputs": []
    },
    {
      "cell_type": "code",
      "metadata": {
        "id": "RqAW-Zbq7dwO"
      },
      "source": [
        "output = Net(6,61)"
      ],
      "execution_count": null,
      "outputs": []
    },
    {
      "cell_type": "code",
      "metadata": {
        "id": "nPhUedFK5vt9"
      },
      "source": [
        "criterion = torch.nn.CrossEntropyLoss()\r\n",
        "optimizer = optim.Adam(output.parameters(), 1e-3)"
      ],
      "execution_count": null,
      "outputs": []
    },
    {
      "cell_type": "code",
      "metadata": {
        "id": "3etvUnvhTA1x"
      },
      "source": [
        "y = y.squeeze(1).long()"
      ],
      "execution_count": null,
      "outputs": []
    },
    {
      "cell_type": "code",
      "metadata": {
        "colab": {
          "base_uri": "https://localhost:8080/"
        },
        "id": "Am35FPEt695X",
        "outputId": "9a352eef-b769-4b35-91fb-c966a425ec60"
      },
      "source": [
        "for i in range(400):\r\n",
        "  optimizer.zero_grad()\r\n",
        "  outputs = output(X)\r\n",
        "  loss = criterion(outputs[:,-1,:] , y)\r\n",
        "  loss.backward()\r\n",
        "  optimizer.step()\r\n",
        "  \r\n",
        "  train_acc = torch.sum(torch.argmax(outputs[:,-1,:], axis = 1) == y)\r\n",
        "\r\n",
        "  print('epoch : ',i, \" loss : \", loss.item())\r\n",
        "  print('acc : ', (train_acc / outputs.shape[0]).numpy())"
      ],
      "execution_count": null,
      "outputs": [
        {
          "output_type": "stream",
          "text": [
            "epoch :  0  loss :  4.121762275695801\n",
            "acc :  0.0048\n",
            "epoch :  1  loss :  4.096011638641357\n",
            "acc :  0.00672\n",
            "epoch :  2  loss :  4.070350646972656\n",
            "acc :  0.01792\n",
            "epoch :  3  loss :  4.044595718383789\n",
            "acc :  0.06944\n",
            "epoch :  4  loss :  4.018551349639893\n",
            "acc :  0.19264\n",
            "epoch :  5  loss :  3.9920475482940674\n",
            "acc :  0.32544\n",
            "epoch :  6  loss :  3.9648797512054443\n",
            "acc :  0.41728\n",
            "epoch :  7  loss :  3.9368491172790527\n",
            "acc :  0.46432\n",
            "epoch :  8  loss :  3.907749891281128\n",
            "acc :  0.47936\n",
            "epoch :  9  loss :  3.8773748874664307\n",
            "acc :  0.48416\n",
            "epoch :  10  loss :  3.8454935550689697\n",
            "acc :  0.48576\n",
            "epoch :  11  loss :  3.811861276626587\n",
            "acc :  0.48576\n",
            "epoch :  12  loss :  3.7761893272399902\n",
            "acc :  0.48576\n",
            "epoch :  13  loss :  3.7382662296295166\n",
            "acc :  0.48576\n",
            "epoch :  14  loss :  3.6978566646575928\n",
            "acc :  0.48576\n",
            "epoch :  15  loss :  3.6546783447265625\n",
            "acc :  0.48576\n",
            "epoch :  16  loss :  3.608474016189575\n",
            "acc :  0.48576\n",
            "epoch :  17  loss :  3.558885097503662\n",
            "acc :  0.48576\n",
            "epoch :  18  loss :  3.505648136138916\n",
            "acc :  0.48576\n",
            "epoch :  19  loss :  3.4485723972320557\n",
            "acc :  0.48576\n",
            "epoch :  20  loss :  3.387434482574463\n",
            "acc :  0.48576\n",
            "epoch :  21  loss :  3.322091579437256\n",
            "acc :  0.48576\n",
            "epoch :  22  loss :  3.2526402473449707\n",
            "acc :  0.48576\n",
            "epoch :  23  loss :  3.1794638633728027\n",
            "acc :  0.48576\n",
            "epoch :  24  loss :  3.1035287380218506\n",
            "acc :  0.48576\n",
            "epoch :  25  loss :  3.0264244079589844\n",
            "acc :  0.48576\n",
            "epoch :  26  loss :  2.9508562088012695\n",
            "acc :  0.48576\n",
            "epoch :  27  loss :  2.8812665939331055\n",
            "acc :  0.48576\n",
            "epoch :  28  loss :  2.823831558227539\n",
            "acc :  0.48576\n",
            "epoch :  29  loss :  2.7860305309295654\n",
            "acc :  0.48576\n",
            "epoch :  30  loss :  2.772662878036499\n",
            "acc :  0.48576\n",
            "epoch :  31  loss :  2.778411865234375\n",
            "acc :  0.48576\n",
            "epoch :  32  loss :  2.7889130115509033\n",
            "acc :  0.48576\n",
            "epoch :  33  loss :  2.792124032974243\n",
            "acc :  0.48576\n",
            "epoch :  34  loss :  2.7834441661834717\n",
            "acc :  0.48576\n",
            "epoch :  35  loss :  2.764370918273926\n",
            "acc :  0.48576\n",
            "epoch :  36  loss :  2.739354372024536\n",
            "acc :  0.48576\n",
            "epoch :  37  loss :  2.713388681411743\n",
            "acc :  0.48576\n",
            "epoch :  38  loss :  2.690336227416992\n",
            "acc :  0.48576\n",
            "epoch :  39  loss :  2.6722357273101807\n",
            "acc :  0.48576\n",
            "epoch :  40  loss :  2.659508466720581\n",
            "acc :  0.48576\n",
            "epoch :  41  loss :  2.6513891220092773\n",
            "acc :  0.48576\n",
            "epoch :  42  loss :  2.646578788757324\n",
            "acc :  0.48576\n",
            "epoch :  43  loss :  2.6436774730682373\n",
            "acc :  0.48576\n",
            "epoch :  44  loss :  2.641446828842163\n",
            "acc :  0.48576\n",
            "epoch :  45  loss :  2.638885736465454\n",
            "acc :  0.48576\n",
            "epoch :  46  loss :  2.63535213470459\n",
            "acc :  0.48576\n",
            "epoch :  47  loss :  2.6305577754974365\n",
            "acc :  0.48576\n",
            "epoch :  48  loss :  2.624375104904175\n",
            "acc :  0.48576\n",
            "epoch :  49  loss :  2.616905689239502\n",
            "acc :  0.48576\n",
            "epoch :  50  loss :  2.608412265777588\n",
            "acc :  0.48576\n",
            "epoch :  51  loss :  2.5993077754974365\n",
            "acc :  0.48576\n",
            "epoch :  52  loss :  2.590008497238159\n",
            "acc :  0.48576\n",
            "epoch :  53  loss :  2.5809290409088135\n",
            "acc :  0.48576\n",
            "epoch :  54  loss :  2.5723321437835693\n",
            "acc :  0.48576\n",
            "epoch :  55  loss :  2.564361810684204\n",
            "acc :  0.48576\n",
            "epoch :  56  loss :  2.5570082664489746\n",
            "acc :  0.48576\n",
            "epoch :  57  loss :  2.5501091480255127\n",
            "acc :  0.48576\n",
            "epoch :  58  loss :  2.543410539627075\n",
            "acc :  0.48576\n",
            "epoch :  59  loss :  2.5366101264953613\n",
            "acc :  0.48576\n",
            "epoch :  60  loss :  2.529448986053467\n",
            "acc :  0.48576\n",
            "epoch :  61  loss :  2.521757125854492\n",
            "acc :  0.48576\n",
            "epoch :  62  loss :  2.5135045051574707\n",
            "acc :  0.48576\n",
            "epoch :  63  loss :  2.504824161529541\n",
            "acc :  0.48576\n",
            "epoch :  64  loss :  2.495943546295166\n",
            "acc :  0.48608\n",
            "epoch :  65  loss :  2.487051486968994\n",
            "acc :  0.48608\n",
            "epoch :  66  loss :  2.478302240371704\n",
            "acc :  0.48608\n",
            "epoch :  67  loss :  2.469744920730591\n",
            "acc :  0.48608\n",
            "epoch :  68  loss :  2.4613330364227295\n",
            "acc :  0.48608\n",
            "epoch :  69  loss :  2.4529991149902344\n",
            "acc :  0.48608\n",
            "epoch :  70  loss :  2.444603681564331\n",
            "acc :  0.48608\n",
            "epoch :  71  loss :  2.4360785484313965\n",
            "acc :  0.48608\n",
            "epoch :  72  loss :  2.42734694480896\n",
            "acc :  0.48608\n",
            "epoch :  73  loss :  2.4184160232543945\n",
            "acc :  0.48608\n",
            "epoch :  74  loss :  2.4093260765075684\n",
            "acc :  0.48608\n",
            "epoch :  75  loss :  2.400130271911621\n",
            "acc :  0.48608\n",
            "epoch :  76  loss :  2.390886068344116\n",
            "acc :  0.4864\n",
            "epoch :  77  loss :  2.3816542625427246\n",
            "acc :  0.4864\n",
            "epoch :  78  loss :  2.372455358505249\n",
            "acc :  0.48672\n",
            "epoch :  79  loss :  2.3633384704589844\n",
            "acc :  0.48672\n",
            "epoch :  80  loss :  2.3542726039886475\n",
            "acc :  0.48768\n",
            "epoch :  81  loss :  2.345228672027588\n",
            "acc :  0.48768\n",
            "epoch :  82  loss :  2.3361873626708984\n",
            "acc :  0.48768\n",
            "epoch :  83  loss :  2.327131748199463\n",
            "acc :  0.48832\n",
            "epoch :  84  loss :  2.3180325031280518\n",
            "acc :  0.48896\n",
            "epoch :  85  loss :  2.308899164199829\n",
            "acc :  0.48896\n",
            "epoch :  86  loss :  2.2997734546661377\n",
            "acc :  0.48928\n",
            "epoch :  87  loss :  2.2908849716186523\n",
            "acc :  0.48928\n",
            "epoch :  88  loss :  2.28214955329895\n",
            "acc :  0.4896\n",
            "epoch :  89  loss :  2.2734856605529785\n",
            "acc :  0.49056\n",
            "epoch :  90  loss :  2.264866828918457\n",
            "acc :  0.49088\n",
            "epoch :  91  loss :  2.256256580352783\n",
            "acc :  0.4912\n",
            "epoch :  92  loss :  2.2476391792297363\n",
            "acc :  0.49184\n",
            "epoch :  93  loss :  2.2389674186706543\n",
            "acc :  0.49248\n",
            "epoch :  94  loss :  2.2302703857421875\n",
            "acc :  0.49248\n",
            "epoch :  95  loss :  2.221573829650879\n",
            "acc :  0.49376\n",
            "epoch :  96  loss :  2.2129104137420654\n",
            "acc :  0.49536\n",
            "epoch :  97  loss :  2.2043263912200928\n",
            "acc :  0.49568\n",
            "epoch :  98  loss :  2.195702075958252\n",
            "acc :  0.49632\n",
            "epoch :  99  loss :  2.1871144771575928\n",
            "acc :  0.49792\n",
            "epoch :  100  loss :  2.178483486175537\n",
            "acc :  0.49984\n",
            "epoch :  101  loss :  2.169787645339966\n",
            "acc :  0.50144\n",
            "epoch :  102  loss :  2.161102533340454\n",
            "acc :  0.5024\n",
            "epoch :  103  loss :  2.1523053646087646\n",
            "acc :  0.50368\n",
            "epoch :  104  loss :  2.143527030944824\n",
            "acc :  0.50624\n",
            "epoch :  105  loss :  2.134737014770508\n",
            "acc :  0.50688\n",
            "epoch :  106  loss :  2.1260170936584473\n",
            "acc :  0.50688\n",
            "epoch :  107  loss :  2.1171209812164307\n",
            "acc :  0.50848\n",
            "epoch :  108  loss :  2.108046770095825\n",
            "acc :  0.50944\n",
            "epoch :  109  loss :  2.098728895187378\n",
            "acc :  0.51264\n",
            "epoch :  110  loss :  2.0892069339752197\n",
            "acc :  0.5136\n",
            "epoch :  111  loss :  2.0798239707946777\n",
            "acc :  0.51552\n",
            "epoch :  112  loss :  2.070101499557495\n",
            "acc :  0.51648\n",
            "epoch :  113  loss :  2.060443878173828\n",
            "acc :  0.51776\n",
            "epoch :  114  loss :  2.050665855407715\n",
            "acc :  0.52192\n",
            "epoch :  115  loss :  2.040519952774048\n",
            "acc :  0.528\n",
            "epoch :  116  loss :  2.030836343765259\n",
            "acc :  0.52864\n",
            "epoch :  117  loss :  2.021003246307373\n",
            "acc :  0.53088\n",
            "epoch :  118  loss :  2.01070499420166\n",
            "acc :  0.53184\n",
            "epoch :  119  loss :  2.0006344318389893\n",
            "acc :  0.5328\n",
            "epoch :  120  loss :  1.9907382726669312\n",
            "acc :  0.53344\n",
            "epoch :  121  loss :  1.981002688407898\n",
            "acc :  0.53696\n",
            "epoch :  122  loss :  1.9704540967941284\n",
            "acc :  0.53728\n",
            "epoch :  123  loss :  1.9602123498916626\n",
            "acc :  0.53952\n",
            "epoch :  124  loss :  1.9496513605117798\n",
            "acc :  0.54016\n",
            "epoch :  125  loss :  1.942781686782837\n",
            "acc :  0.54176\n",
            "epoch :  126  loss :  1.934364676475525\n",
            "acc :  0.5408\n",
            "epoch :  127  loss :  1.9227395057678223\n",
            "acc :  0.54048\n",
            "epoch :  128  loss :  1.9110246896743774\n",
            "acc :  0.54208\n",
            "epoch :  129  loss :  1.8977229595184326\n",
            "acc :  0.544\n",
            "epoch :  130  loss :  1.8862273693084717\n",
            "acc :  0.54464\n",
            "epoch :  131  loss :  1.8784992694854736\n",
            "acc :  0.54528\n",
            "epoch :  132  loss :  1.865862488746643\n",
            "acc :  0.54624\n",
            "epoch :  133  loss :  1.8538484573364258\n",
            "acc :  0.54656\n",
            "epoch :  134  loss :  1.8436287641525269\n",
            "acc :  0.5472\n",
            "epoch :  135  loss :  1.8334057331085205\n",
            "acc :  0.5488\n",
            "epoch :  136  loss :  1.8234494924545288\n",
            "acc :  0.55072\n",
            "epoch :  137  loss :  1.8126320838928223\n",
            "acc :  0.55136\n",
            "epoch :  138  loss :  1.8025025129318237\n",
            "acc :  0.55264\n",
            "epoch :  139  loss :  1.7939257621765137\n",
            "acc :  0.55392\n",
            "epoch :  140  loss :  1.7799170017242432\n",
            "acc :  0.55808\n",
            "epoch :  141  loss :  1.7679150104522705\n",
            "acc :  0.55904\n",
            "epoch :  142  loss :  1.7588529586791992\n",
            "acc :  0.56032\n",
            "epoch :  143  loss :  1.7479182481765747\n",
            "acc :  0.56096\n",
            "epoch :  144  loss :  1.7367565631866455\n",
            "acc :  0.5616\n",
            "epoch :  145  loss :  1.7263330221176147\n",
            "acc :  0.56384\n",
            "epoch :  146  loss :  1.7153464555740356\n",
            "acc :  0.56448\n",
            "epoch :  147  loss :  1.7049057483673096\n",
            "acc :  0.5664\n",
            "epoch :  148  loss :  1.6947145462036133\n",
            "acc :  0.56768\n",
            "epoch :  149  loss :  1.683868408203125\n",
            "acc :  0.56704\n",
            "epoch :  150  loss :  1.6722877025604248\n",
            "acc :  0.56832\n",
            "epoch :  151  loss :  1.6609584093093872\n",
            "acc :  0.56896\n",
            "epoch :  152  loss :  1.6498838663101196\n",
            "acc :  0.57184\n",
            "epoch :  153  loss :  1.6391440629959106\n",
            "acc :  0.57504\n",
            "epoch :  154  loss :  1.6285898685455322\n",
            "acc :  0.57728\n",
            "epoch :  155  loss :  1.6178518533706665\n",
            "acc :  0.57888\n",
            "epoch :  156  loss :  1.607253074645996\n",
            "acc :  0.5808\n",
            "epoch :  157  loss :  1.5962905883789062\n",
            "acc :  0.58368\n",
            "epoch :  158  loss :  1.5850569009780884\n",
            "acc :  0.58464\n",
            "epoch :  159  loss :  1.573965311050415\n",
            "acc :  0.5856\n",
            "epoch :  160  loss :  1.5634922981262207\n",
            "acc :  0.58816\n",
            "epoch :  161  loss :  1.552993893623352\n",
            "acc :  0.59136\n",
            "epoch :  162  loss :  1.541982650756836\n",
            "acc :  0.59296\n",
            "epoch :  163  loss :  1.531254529953003\n",
            "acc :  0.59392\n",
            "epoch :  164  loss :  1.5202856063842773\n",
            "acc :  0.59488\n",
            "epoch :  165  loss :  1.509375810623169\n",
            "acc :  0.59584\n",
            "epoch :  166  loss :  1.4983420372009277\n",
            "acc :  0.5984\n",
            "epoch :  167  loss :  1.4877384901046753\n",
            "acc :  0.60032\n",
            "epoch :  168  loss :  1.4768104553222656\n",
            "acc :  0.6032\n",
            "epoch :  169  loss :  1.465975284576416\n",
            "acc :  0.60608\n",
            "epoch :  170  loss :  1.4551031589508057\n",
            "acc :  0.60896\n",
            "epoch :  171  loss :  1.4444140195846558\n",
            "acc :  0.61376\n",
            "epoch :  172  loss :  1.4340760707855225\n",
            "acc :  0.61696\n",
            "epoch :  173  loss :  1.4232512712478638\n",
            "acc :  0.61984\n",
            "epoch :  174  loss :  1.4125428199768066\n",
            "acc :  0.62144\n",
            "epoch :  175  loss :  1.402111530303955\n",
            "acc :  0.62368\n",
            "epoch :  176  loss :  1.391296148300171\n",
            "acc :  0.62656\n",
            "epoch :  177  loss :  1.3803199529647827\n",
            "acc :  0.62976\n",
            "epoch :  178  loss :  1.3694243431091309\n",
            "acc :  0.63232\n",
            "epoch :  179  loss :  1.358826756477356\n",
            "acc :  0.63296\n",
            "epoch :  180  loss :  1.348538875579834\n",
            "acc :  0.63584\n",
            "epoch :  181  loss :  1.3399019241333008\n",
            "acc :  0.63968\n",
            "epoch :  182  loss :  1.329640507698059\n",
            "acc :  0.64352\n",
            "epoch :  183  loss :  1.3189066648483276\n",
            "acc :  0.64352\n",
            "epoch :  184  loss :  1.3076673746109009\n",
            "acc :  0.6496\n",
            "epoch :  185  loss :  1.298539638519287\n",
            "acc :  0.65216\n",
            "epoch :  186  loss :  1.291985034942627\n",
            "acc :  0.6528\n",
            "epoch :  187  loss :  1.2797272205352783\n",
            "acc :  0.65568\n",
            "epoch :  188  loss :  1.2666091918945312\n",
            "acc :  0.65856\n",
            "epoch :  189  loss :  1.258518934249878\n",
            "acc :  0.65984\n",
            "epoch :  190  loss :  1.2451809644699097\n",
            "acc :  0.66304\n",
            "epoch :  191  loss :  1.2386975288391113\n",
            "acc :  0.66592\n",
            "epoch :  192  loss :  1.2284963130950928\n",
            "acc :  0.66848\n",
            "epoch :  193  loss :  1.219308614730835\n",
            "acc :  0.66656\n",
            "epoch :  194  loss :  1.2088195085525513\n",
            "acc :  0.6704\n",
            "epoch :  195  loss :  1.2018901109695435\n",
            "acc :  0.67328\n",
            "epoch :  196  loss :  1.1893632411956787\n",
            "acc :  0.67392\n",
            "epoch :  197  loss :  1.1805188655853271\n",
            "acc :  0.67488\n",
            "epoch :  198  loss :  1.1726354360580444\n",
            "acc :  0.68064\n",
            "epoch :  199  loss :  1.1622556447982788\n",
            "acc :  0.68128\n",
            "epoch :  200  loss :  1.1514673233032227\n",
            "acc :  0.68576\n",
            "epoch :  201  loss :  1.1434167623519897\n",
            "acc :  0.6848\n",
            "epoch :  202  loss :  1.1319371461868286\n",
            "acc :  0.68864\n",
            "epoch :  203  loss :  1.1218568086624146\n",
            "acc :  0.69152\n",
            "epoch :  204  loss :  1.1123218536376953\n",
            "acc :  0.69536\n",
            "epoch :  205  loss :  1.1038970947265625\n",
            "acc :  0.69792\n",
            "epoch :  206  loss :  1.0939885377883911\n",
            "acc :  0.69856\n",
            "epoch :  207  loss :  1.0861377716064453\n",
            "acc :  0.70176\n",
            "epoch :  208  loss :  1.0762766599655151\n",
            "acc :  0.70496\n",
            "epoch :  209  loss :  1.0661264657974243\n",
            "acc :  0.70656\n",
            "epoch :  210  loss :  1.0590159893035889\n",
            "acc :  0.70528\n",
            "epoch :  211  loss :  1.0494304895401\n",
            "acc :  0.70976\n",
            "epoch :  212  loss :  1.0402456521987915\n",
            "acc :  0.7136\n",
            "epoch :  213  loss :  1.0315327644348145\n",
            "acc :  0.71296\n",
            "epoch :  214  loss :  1.0226644277572632\n",
            "acc :  0.71552\n",
            "epoch :  215  loss :  1.013813853263855\n",
            "acc :  0.7168\n",
            "epoch :  216  loss :  1.0054798126220703\n",
            "acc :  0.71712\n",
            "epoch :  217  loss :  0.9970524907112122\n",
            "acc :  0.72096\n",
            "epoch :  218  loss :  0.9887622594833374\n",
            "acc :  0.72256\n",
            "epoch :  219  loss :  0.9804010391235352\n",
            "acc :  0.72672\n",
            "epoch :  220  loss :  0.9719754457473755\n",
            "acc :  0.7296\n",
            "epoch :  221  loss :  0.9635147452354431\n",
            "acc :  0.7312\n",
            "epoch :  222  loss :  0.9555033445358276\n",
            "acc :  0.7328\n",
            "epoch :  223  loss :  0.9470790028572083\n",
            "acc :  0.73376\n",
            "epoch :  224  loss :  0.9392905235290527\n",
            "acc :  0.73408\n",
            "epoch :  225  loss :  0.9316222667694092\n",
            "acc :  0.73632\n",
            "epoch :  226  loss :  0.9254292845726013\n",
            "acc :  0.74048\n",
            "epoch :  227  loss :  0.9175017476081848\n",
            "acc :  0.74112\n",
            "epoch :  228  loss :  0.909621000289917\n",
            "acc :  0.74144\n",
            "epoch :  229  loss :  0.9014081954956055\n",
            "acc :  0.74464\n",
            "epoch :  230  loss :  0.8931573629379272\n",
            "acc :  0.74784\n",
            "epoch :  231  loss :  0.8853742480278015\n",
            "acc :  0.7504\n",
            "epoch :  232  loss :  0.8770478963851929\n",
            "acc :  0.75072\n",
            "epoch :  233  loss :  0.8686060309410095\n",
            "acc :  0.75392\n",
            "epoch :  234  loss :  0.8608887791633606\n",
            "acc :  0.7552\n",
            "epoch :  235  loss :  0.852836549282074\n",
            "acc :  0.75744\n",
            "epoch :  236  loss :  0.8443524241447449\n",
            "acc :  0.75904\n",
            "epoch :  237  loss :  0.8367615342140198\n",
            "acc :  0.75808\n",
            "epoch :  238  loss :  0.8295692205429077\n",
            "acc :  0.75968\n",
            "epoch :  239  loss :  0.8225082159042358\n",
            "acc :  0.76256\n",
            "epoch :  240  loss :  0.8155415654182434\n",
            "acc :  0.76448\n",
            "epoch :  241  loss :  0.8074684143066406\n",
            "acc :  0.76608\n",
            "epoch :  242  loss :  0.8003303408622742\n",
            "acc :  0.76928\n",
            "epoch :  243  loss :  0.7941479682922363\n",
            "acc :  0.76896\n",
            "epoch :  244  loss :  0.7872018814086914\n",
            "acc :  0.77024\n",
            "epoch :  245  loss :  0.7789595127105713\n",
            "acc :  0.77568\n",
            "epoch :  246  loss :  0.7717039585113525\n",
            "acc :  0.77664\n",
            "epoch :  247  loss :  0.7681870460510254\n",
            "acc :  0.77568\n",
            "epoch :  248  loss :  0.762986958026886\n",
            "acc :  0.77152\n",
            "epoch :  249  loss :  0.7539340853691101\n",
            "acc :  0.77888\n",
            "epoch :  250  loss :  0.7484444379806519\n",
            "acc :  0.78176\n",
            "epoch :  251  loss :  0.7448499798774719\n",
            "acc :  0.78016\n",
            "epoch :  252  loss :  0.7414039969444275\n",
            "acc :  0.78432\n",
            "epoch :  253  loss :  0.729836106300354\n",
            "acc :  0.78496\n",
            "epoch :  254  loss :  0.7262287735939026\n",
            "acc :  0.78368\n",
            "epoch :  255  loss :  0.7175735235214233\n",
            "acc :  0.79008\n",
            "epoch :  256  loss :  0.7121313810348511\n",
            "acc :  0.79456\n",
            "epoch :  257  loss :  0.7037078142166138\n",
            "acc :  0.79616\n",
            "epoch :  258  loss :  0.6985947489738464\n",
            "acc :  0.79776\n",
            "epoch :  259  loss :  0.6913632154464722\n",
            "acc :  0.80032\n",
            "epoch :  260  loss :  0.6848692297935486\n",
            "acc :  0.80224\n",
            "epoch :  261  loss :  0.6785253286361694\n",
            "acc :  0.80256\n",
            "epoch :  262  loss :  0.6716338396072388\n",
            "acc :  0.8064\n",
            "epoch :  263  loss :  0.6655426621437073\n",
            "acc :  0.80704\n",
            "epoch :  264  loss :  0.6595052480697632\n",
            "acc :  0.80608\n",
            "epoch :  265  loss :  0.657285213470459\n",
            "acc :  0.80768\n",
            "epoch :  266  loss :  0.6523013710975647\n",
            "acc :  0.808\n",
            "epoch :  267  loss :  0.645481526851654\n",
            "acc :  0.8112\n",
            "epoch :  268  loss :  0.6392497420310974\n",
            "acc :  0.81216\n",
            "epoch :  269  loss :  0.6326170563697815\n",
            "acc :  0.8144\n",
            "epoch :  270  loss :  0.626641571521759\n",
            "acc :  0.81888\n",
            "epoch :  271  loss :  0.6209907531738281\n",
            "acc :  0.82176\n",
            "epoch :  272  loss :  0.6145041584968567\n",
            "acc :  0.82272\n",
            "epoch :  273  loss :  0.6094467639923096\n",
            "acc :  0.82272\n",
            "epoch :  274  loss :  0.6035968065261841\n",
            "acc :  0.82528\n",
            "epoch :  275  loss :  0.5969153642654419\n",
            "acc :  0.8288\n",
            "epoch :  276  loss :  0.5914715528488159\n",
            "acc :  0.83104\n",
            "epoch :  277  loss :  0.5857092142105103\n",
            "acc :  0.8336\n",
            "epoch :  278  loss :  0.5807074904441833\n",
            "acc :  0.8352\n",
            "epoch :  279  loss :  0.5752846002578735\n",
            "acc :  0.83552\n",
            "epoch :  280  loss :  0.5707860589027405\n",
            "acc :  0.83488\n",
            "epoch :  281  loss :  0.5698527097702026\n",
            "acc :  0.83776\n",
            "epoch :  282  loss :  0.5679741501808167\n",
            "acc :  0.83488\n",
            "epoch :  283  loss :  0.5687002539634705\n",
            "acc :  0.83552\n",
            "epoch :  284  loss :  0.5570966601371765\n",
            "acc :  0.83712\n",
            "epoch :  285  loss :  0.5521906018257141\n",
            "acc :  0.84\n",
            "epoch :  286  loss :  0.5482507944107056\n",
            "acc :  0.84256\n",
            "epoch :  287  loss :  0.5377014875411987\n",
            "acc :  0.8464\n",
            "epoch :  288  loss :  0.5402008891105652\n",
            "acc :  0.84224\n",
            "epoch :  289  loss :  0.5310342907905579\n",
            "acc :  0.84992\n",
            "epoch :  290  loss :  0.5261874794960022\n",
            "acc :  0.85216\n",
            "epoch :  291  loss :  0.5252284407615662\n",
            "acc :  0.85056\n",
            "epoch :  292  loss :  0.5143870115280151\n",
            "acc :  0.85824\n",
            "epoch :  293  loss :  0.5152499079704285\n",
            "acc :  0.85952\n",
            "epoch :  294  loss :  0.5094254612922668\n",
            "acc :  0.85856\n",
            "epoch :  295  loss :  0.501222550868988\n",
            "acc :  0.86144\n",
            "epoch :  296  loss :  0.5004006028175354\n",
            "acc :  0.86464\n",
            "epoch :  297  loss :  0.4912956953048706\n",
            "acc :  0.86528\n",
            "epoch :  298  loss :  0.49095508456230164\n",
            "acc :  0.86112\n",
            "epoch :  299  loss :  0.4848436713218689\n",
            "acc :  0.86912\n",
            "epoch :  300  loss :  0.4793942868709564\n",
            "acc :  0.8704\n",
            "epoch :  301  loss :  0.4756700396537781\n",
            "acc :  0.87008\n",
            "epoch :  302  loss :  0.4881798326969147\n",
            "acc :  0.86784\n",
            "epoch :  303  loss :  0.4861108958721161\n",
            "acc :  0.86656\n",
            "epoch :  304  loss :  0.48702046275138855\n",
            "acc :  0.8576\n",
            "epoch :  305  loss :  0.47780826687812805\n",
            "acc :  0.86624\n",
            "epoch :  306  loss :  0.4748462438583374\n",
            "acc :  0.86784\n",
            "epoch :  307  loss :  0.46858590841293335\n",
            "acc :  0.86944\n",
            "epoch :  308  loss :  0.4628511965274811\n",
            "acc :  0.87136\n",
            "epoch :  309  loss :  0.46030279994010925\n",
            "acc :  0.87584\n",
            "epoch :  310  loss :  0.45391348004341125\n",
            "acc :  0.8784\n",
            "epoch :  311  loss :  0.4470633566379547\n",
            "acc :  0.8784\n",
            "epoch :  312  loss :  0.44239571690559387\n",
            "acc :  0.88192\n",
            "epoch :  313  loss :  0.4782276153564453\n",
            "acc :  0.86848\n",
            "epoch :  314  loss :  0.48323148488998413\n",
            "acc :  0.87136\n",
            "epoch :  315  loss :  0.47567567229270935\n",
            "acc :  0.88032\n",
            "epoch :  316  loss :  0.4717191159725189\n",
            "acc :  0.87904\n",
            "epoch :  317  loss :  0.4685971736907959\n",
            "acc :  0.87264\n",
            "epoch :  318  loss :  0.45705661177635193\n",
            "acc :  0.872\n",
            "epoch :  319  loss :  0.45785394310951233\n",
            "acc :  0.87296\n",
            "epoch :  320  loss :  0.447794109582901\n",
            "acc :  0.87264\n",
            "epoch :  321  loss :  0.443273663520813\n",
            "acc :  0.87456\n",
            "epoch :  322  loss :  0.4345944821834564\n",
            "acc :  0.8816\n",
            "epoch :  323  loss :  0.4273298680782318\n",
            "acc :  0.88416\n",
            "epoch :  324  loss :  0.4221658706665039\n",
            "acc :  0.88736\n",
            "epoch :  325  loss :  0.4193035066127777\n",
            "acc :  0.88448\n",
            "epoch :  326  loss :  0.4140901267528534\n",
            "acc :  0.88672\n",
            "epoch :  327  loss :  0.40924856066703796\n",
            "acc :  0.88896\n",
            "epoch :  328  loss :  0.40281131863594055\n",
            "acc :  0.89088\n",
            "epoch :  329  loss :  0.39893487095832825\n",
            "acc :  0.89312\n",
            "epoch :  330  loss :  0.3943813145160675\n",
            "acc :  0.89536\n",
            "epoch :  331  loss :  0.38957276940345764\n",
            "acc :  0.89792\n",
            "epoch :  332  loss :  0.3842856287956238\n",
            "acc :  0.89888\n",
            "epoch :  333  loss :  0.3797312080860138\n",
            "acc :  0.90144\n",
            "epoch :  334  loss :  0.3749743700027466\n",
            "acc :  0.90528\n",
            "epoch :  335  loss :  0.370225191116333\n",
            "acc :  0.9056\n",
            "epoch :  336  loss :  0.3658912777900696\n",
            "acc :  0.90976\n",
            "epoch :  337  loss :  0.3620697557926178\n",
            "acc :  0.91168\n",
            "epoch :  338  loss :  0.3583550453186035\n",
            "acc :  0.91232\n",
            "epoch :  339  loss :  0.35429835319519043\n",
            "acc :  0.91264\n",
            "epoch :  340  loss :  0.35049089789390564\n",
            "acc :  0.91552\n",
            "epoch :  341  loss :  0.3465403616428375\n",
            "acc :  0.91584\n",
            "epoch :  342  loss :  0.34315770864486694\n",
            "acc :  0.91872\n",
            "epoch :  343  loss :  0.33916375041007996\n",
            "acc :  0.92064\n",
            "epoch :  344  loss :  0.3358178436756134\n",
            "acc :  0.92128\n",
            "epoch :  345  loss :  0.33257192373275757\n",
            "acc :  0.9216\n",
            "epoch :  346  loss :  0.3287385404109955\n",
            "acc :  0.92288\n",
            "epoch :  347  loss :  0.32542675733566284\n",
            "acc :  0.92448\n",
            "epoch :  348  loss :  0.32223591208457947\n",
            "acc :  0.92448\n",
            "epoch :  349  loss :  0.3186849355697632\n",
            "acc :  0.92512\n",
            "epoch :  350  loss :  0.3153962194919586\n",
            "acc :  0.92768\n",
            "epoch :  351  loss :  0.31196582317352295\n",
            "acc :  0.928\n",
            "epoch :  352  loss :  0.3088511824607849\n",
            "acc :  0.92928\n",
            "epoch :  353  loss :  0.30540674924850464\n",
            "acc :  0.93024\n",
            "epoch :  354  loss :  0.30187487602233887\n",
            "acc :  0.93216\n",
            "epoch :  355  loss :  0.29867228865623474\n",
            "acc :  0.93248\n",
            "epoch :  356  loss :  0.2956821024417877\n",
            "acc :  0.93408\n",
            "epoch :  357  loss :  0.29255440831184387\n",
            "acc :  0.93472\n",
            "epoch :  358  loss :  0.2895566523075104\n",
            "acc :  0.93472\n",
            "epoch :  359  loss :  0.286763995885849\n",
            "acc :  0.936\n",
            "epoch :  360  loss :  0.28371649980545044\n",
            "acc :  0.93728\n",
            "epoch :  361  loss :  0.2807530164718628\n",
            "acc :  0.9376\n",
            "epoch :  362  loss :  0.27768245339393616\n",
            "acc :  0.93888\n",
            "epoch :  363  loss :  0.2748357951641083\n",
            "acc :  0.93984\n",
            "epoch :  364  loss :  0.27196064591407776\n",
            "acc :  0.94112\n",
            "epoch :  365  loss :  0.2693061828613281\n",
            "acc :  0.94208\n",
            "epoch :  366  loss :  0.2670693099498749\n",
            "acc :  0.9424\n",
            "epoch :  367  loss :  0.26440081000328064\n",
            "acc :  0.94304\n",
            "epoch :  368  loss :  0.2619878053665161\n",
            "acc :  0.9424\n",
            "epoch :  369  loss :  0.2599863111972809\n",
            "acc :  0.94432\n",
            "epoch :  370  loss :  0.25673288106918335\n",
            "acc :  0.94592\n",
            "epoch :  371  loss :  0.25418850779533386\n",
            "acc :  0.94656\n",
            "epoch :  372  loss :  0.2520434856414795\n",
            "acc :  0.94784\n",
            "epoch :  373  loss :  0.24924689531326294\n",
            "acc :  0.94688\n",
            "epoch :  374  loss :  0.24648021161556244\n",
            "acc :  0.94848\n",
            "epoch :  375  loss :  0.2443968951702118\n",
            "acc :  0.9504\n",
            "epoch :  376  loss :  0.24208936095237732\n",
            "acc :  0.95008\n",
            "epoch :  377  loss :  0.23925156891345978\n",
            "acc :  0.95168\n",
            "epoch :  378  loss :  0.23670315742492676\n",
            "acc :  0.95296\n",
            "epoch :  379  loss :  0.23471640050411224\n",
            "acc :  0.9536\n",
            "epoch :  380  loss :  0.23216643929481506\n",
            "acc :  0.95584\n",
            "epoch :  381  loss :  0.22989332675933838\n",
            "acc :  0.9552\n",
            "epoch :  382  loss :  0.22764050960540771\n",
            "acc :  0.95648\n",
            "epoch :  383  loss :  0.22535933554172516\n",
            "acc :  0.95776\n",
            "epoch :  384  loss :  0.223222017288208\n",
            "acc :  0.95872\n",
            "epoch :  385  loss :  0.22094976902008057\n",
            "acc :  0.95872\n",
            "epoch :  386  loss :  0.21876531839370728\n",
            "acc :  0.96096\n",
            "epoch :  387  loss :  0.21643078327178955\n",
            "acc :  0.96224\n",
            "epoch :  388  loss :  0.21439328789710999\n",
            "acc :  0.96288\n",
            "epoch :  389  loss :  0.21225489675998688\n",
            "acc :  0.96384\n",
            "epoch :  390  loss :  0.21026882529258728\n",
            "acc :  0.96416\n",
            "epoch :  391  loss :  0.2082979679107666\n",
            "acc :  0.96544\n",
            "epoch :  392  loss :  0.20759306848049164\n",
            "acc :  0.96576\n",
            "epoch :  393  loss :  0.2077282965183258\n",
            "acc :  0.96608\n",
            "epoch :  394  loss :  0.2095038890838623\n",
            "acc :  0.96544\n",
            "epoch :  395  loss :  0.2128300964832306\n",
            "acc :  0.9616\n",
            "epoch :  396  loss :  0.20400470495224\n",
            "acc :  0.968\n",
            "epoch :  397  loss :  0.21330440044403076\n",
            "acc :  0.96416\n",
            "epoch :  398  loss :  0.20417165756225586\n",
            "acc :  0.96576\n",
            "epoch :  399  loss :  0.268788605928421\n",
            "acc :  0.94336\n"
          ],
          "name": "stdout"
        }
      ]
    },
    {
      "cell_type": "code",
      "metadata": {
        "colab": {
          "base_uri": "https://localhost:8080/"
        },
        "id": "ZUTst48dzPsg",
        "outputId": "aaa13077-bc04-42ac-b6da-1e4023157f90"
      },
      "source": [
        "outputs.shape[0]"
      ],
      "execution_count": null,
      "outputs": [
        {
          "output_type": "execute_result",
          "data": {
            "text/plain": [
              "3125"
            ]
          },
          "metadata": {
            "tags": []
          },
          "execution_count": 30
        }
      ]
    },
    {
      "cell_type": "code",
      "metadata": {
        "id": "UaWgIxwWB9Bs"
      },
      "source": [
        "with torch.no_grad():\r\n",
        "  #X_test = torch.FloatTensor(test.iloc[:,2:].values).view(-1, 600, 6)\r\n",
        "  pred_test = output(X)"
      ],
      "execution_count": null,
      "outputs": []
    },
    {
      "cell_type": "code",
      "metadata": {
        "id": "R3FDjH78wPIT"
      },
      "source": [
        "x_numpy = pred_test.numpy()"
      ],
      "execution_count": null,
      "outputs": []
    },
    {
      "cell_type": "code",
      "metadata": {
        "id": "lgrBA7f6wSAr"
      },
      "source": [
        "x_numpy = x_numpy[:, -1, :]"
      ],
      "execution_count": null,
      "outputs": []
    },
    {
      "cell_type": "code",
      "metadata": {
        "id": "Jj7mePEswXKu"
      },
      "source": [
        "x_numpy = np.argmax(x_numpy, axis = 1)"
      ],
      "execution_count": null,
      "outputs": []
    },
    {
      "cell_type": "code",
      "metadata": {
        "colab": {
          "base_uri": "https://localhost:8080/"
        },
        "id": "WbAe2jaw8eEo",
        "outputId": "df026257-6479-4f68-916b-c6ce992f25ea"
      },
      "source": [
        "x_numpy"
      ],
      "execution_count": null,
      "outputs": [
        {
          "output_type": "execute_result",
          "data": {
            "text/plain": [
              "array([37, 26,  3, ..., 15, 26,  2])"
            ]
          },
          "metadata": {
            "tags": []
          },
          "execution_count": 43
        }
      ]
    },
    {
      "cell_type": "code",
      "metadata": {
        "colab": {
          "base_uri": "https://localhost:8080/"
        },
        "id": "YYd-rf3jwkSt",
        "outputId": "ed168648-06cb-4757-86c7-7689c125c590"
      },
      "source": [
        "y_numpy = y.numpy()\r\n",
        "y_numpy"
      ],
      "execution_count": null,
      "outputs": [
        {
          "output_type": "execute_result",
          "data": {
            "text/plain": [
              "array([37, 26,  3, ..., 15, 26,  2])"
            ]
          },
          "metadata": {
            "tags": []
          },
          "execution_count": 44
        }
      ]
    },
    {
      "cell_type": "code",
      "metadata": {
        "id": "C7W9aPFiwoDB"
      },
      "source": [
        "import sklearn.metrics as metrics"
      ],
      "execution_count": null,
      "outputs": []
    },
    {
      "cell_type": "code",
      "metadata": {
        "colab": {
          "base_uri": "https://localhost:8080/"
        },
        "id": "iopI-qz9w6VQ",
        "outputId": "58fa2eb6-c1d1-4535-a3cc-28256328526c"
      },
      "source": [
        "acc = metrics.accuracy_score(x_numpy , y_numpy)\r\n",
        "print('acc : ', acc)"
      ],
      "execution_count": null,
      "outputs": [
        {
          "output_type": "stream",
          "text": [
            "acc :  0.94208\n"
          ],
          "name": "stdout"
        }
      ]
    },
    {
      "cell_type": "code",
      "metadata": {
        "colab": {
          "base_uri": "https://localhost:8080/",
          "height": 419
        },
        "id": "yp8nI50ZDSPF",
        "outputId": "4ecc019d-b48c-4db5-ea04-431482eba983"
      },
      "source": [
        "pd.DataFrame(torch.argmax(pred_test[:, -1, :], axis = 1))"
      ],
      "execution_count": null,
      "outputs": [
        {
          "output_type": "execute_result",
          "data": {
            "text/html": [
              "<div>\n",
              "<style scoped>\n",
              "    .dataframe tbody tr th:only-of-type {\n",
              "        vertical-align: middle;\n",
              "    }\n",
              "\n",
              "    .dataframe tbody tr th {\n",
              "        vertical-align: top;\n",
              "    }\n",
              "\n",
              "    .dataframe thead th {\n",
              "        text-align: right;\n",
              "    }\n",
              "</style>\n",
              "<table border=\"1\" class=\"dataframe\">\n",
              "  <thead>\n",
              "    <tr style=\"text-align: right;\">\n",
              "      <th></th>\n",
              "      <th>0</th>\n",
              "    </tr>\n",
              "  </thead>\n",
              "  <tbody>\n",
              "    <tr>\n",
              "      <th>0</th>\n",
              "      <td>37</td>\n",
              "    </tr>\n",
              "    <tr>\n",
              "      <th>1</th>\n",
              "      <td>26</td>\n",
              "    </tr>\n",
              "    <tr>\n",
              "      <th>2</th>\n",
              "      <td>3</td>\n",
              "    </tr>\n",
              "    <tr>\n",
              "      <th>3</th>\n",
              "      <td>26</td>\n",
              "    </tr>\n",
              "    <tr>\n",
              "      <th>4</th>\n",
              "      <td>26</td>\n",
              "    </tr>\n",
              "    <tr>\n",
              "      <th>...</th>\n",
              "      <td>...</td>\n",
              "    </tr>\n",
              "    <tr>\n",
              "      <th>3120</th>\n",
              "      <td>26</td>\n",
              "    </tr>\n",
              "    <tr>\n",
              "      <th>3121</th>\n",
              "      <td>26</td>\n",
              "    </tr>\n",
              "    <tr>\n",
              "      <th>3122</th>\n",
              "      <td>15</td>\n",
              "    </tr>\n",
              "    <tr>\n",
              "      <th>3123</th>\n",
              "      <td>26</td>\n",
              "    </tr>\n",
              "    <tr>\n",
              "      <th>3124</th>\n",
              "      <td>2</td>\n",
              "    </tr>\n",
              "  </tbody>\n",
              "</table>\n",
              "<p>3125 rows × 1 columns</p>\n",
              "</div>"
            ],
            "text/plain": [
              "       0\n",
              "0     37\n",
              "1     26\n",
              "2      3\n",
              "3     26\n",
              "4     26\n",
              "...   ..\n",
              "3120  26\n",
              "3121  26\n",
              "3122  15\n",
              "3123  26\n",
              "3124   2\n",
              "\n",
              "[3125 rows x 1 columns]"
            ]
          },
          "metadata": {
            "tags": []
          },
          "execution_count": 47
        }
      ]
    },
    {
      "cell_type": "code",
      "metadata": {
        "id": "iUSaS5Iw8vrL"
      },
      "source": [
        "test_df = pd.DataFrame(pred_test[:, -1, :].numpy())"
      ],
      "execution_count": null,
      "outputs": []
    },
    {
      "cell_type": "code",
      "metadata": {
        "id": "oMNStB5s87bQ"
      },
      "source": [
        "test_df.to_excel('/content/drive/MyDrive/DACON/excel_test.xlsx의 사본.xlsx')"
      ],
      "execution_count": null,
      "outputs": []
    },
    {
      "cell_type": "code",
      "metadata": {
        "id": "-Gcl3BXs9Gvl"
      },
      "source": [
        "torch.save(output.state_dict(), '/content/drive/MyDrive/DACON/data/EMS_LSTM_epoch_400')"
      ],
      "execution_count": null,
      "outputs": []
    },
    {
      "cell_type": "code",
      "metadata": {
        "id": "IMYQU85m91pn"
      },
      "source": [
        ""
      ],
      "execution_count": null,
      "outputs": []
    }
  ]
}