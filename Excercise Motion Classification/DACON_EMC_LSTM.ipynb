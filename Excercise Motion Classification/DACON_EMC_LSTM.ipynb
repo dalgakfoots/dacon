{
  "nbformat": 4,
  "nbformat_minor": 0,
  "metadata": {
    "colab": {
      "name": "DACON_SAPJIL.ipynb",
      "provenance": [],
      "collapsed_sections": []
    },
    "kernelspec": {
      "name": "python3",
      "display_name": "Python 3"
    },
    "accelerator": "GPU"
  },
  "cells": [
    {
      "cell_type": "code",
      "metadata": {
        "id": "cJkFI5YSuYVP"
      },
      "source": [
        "import torch\r\n",
        "\r\n",
        "import copy\r\n",
        "import numpy as np\r\n",
        "import pandas as pd\r\n",
        "import seaborn as sns\r\n",
        "from pylab import rcParams\r\n",
        "import matplotlib.pyplot as plt\r\n",
        "from matplotlib import rc\r\n",
        "from sklearn.model_selection import train_test_split\r\n",
        "\r\n",
        "from torch import nn, optim\r\n",
        "\r\n",
        "import torch.nn.functional as F"
      ],
      "execution_count": 1,
      "outputs": []
    },
    {
      "cell_type": "code",
      "metadata": {
        "id": "zk4irPeduqkv"
      },
      "source": [
        "device = torch.device('cuda' if torch.cuda.is_available() else 'cpu')"
      ],
      "execution_count": 2,
      "outputs": []
    },
    {
      "cell_type": "code",
      "metadata": {
        "colab": {
          "base_uri": "https://localhost:8080/"
        },
        "id": "0li6QnsXu8FP",
        "outputId": "d05b7973-2619-43e5-d876-de8256ad0813"
      },
      "source": [
        "device"
      ],
      "execution_count": 3,
      "outputs": [
        {
          "output_type": "execute_result",
          "data": {
            "text/plain": [
              "device(type='cuda')"
            ]
          },
          "metadata": {
            "tags": []
          },
          "execution_count": 3
        }
      ]
    },
    {
      "cell_type": "code",
      "metadata": {
        "id": "AJmRiUMUzrlM"
      },
      "source": [
        "train = pd.read_csv('/content/drive/MyDrive/DACON/train_features.csv')"
      ],
      "execution_count": 4,
      "outputs": []
    },
    {
      "cell_type": "code",
      "metadata": {
        "id": "5IDR_Vxg0kOk"
      },
      "source": [
        "target = pd.read_csv('/content/drive/MyDrive/DACON/train_labels.csv')\r\n",
        "train_labels = target"
      ],
      "execution_count": 5,
      "outputs": []
    },
    {
      "cell_type": "code",
      "metadata": {
        "id": "Tvs8Rt99wMC4"
      },
      "source": [
        "test = pd.read_csv('/content/drive/MyDrive/DACON/test_features.csv')\r\n",
        "submission = pd.read_csv('/content/drive/MyDrive/DACON/sample_submission.csv')"
      ],
      "execution_count": 6,
      "outputs": []
    },
    {
      "cell_type": "code",
      "metadata": {
        "colab": {
          "base_uri": "https://localhost:8080/",
          "height": 419
        },
        "id": "wA5iNZ1FwZ-0",
        "outputId": "be6c4fcf-8db4-4063-92db-e327d15a725e"
      },
      "source": [
        "train"
      ],
      "execution_count": 7,
      "outputs": [
        {
          "output_type": "execute_result",
          "data": {
            "text/html": [
              "<div>\n",
              "<style scoped>\n",
              "    .dataframe tbody tr th:only-of-type {\n",
              "        vertical-align: middle;\n",
              "    }\n",
              "\n",
              "    .dataframe tbody tr th {\n",
              "        vertical-align: top;\n",
              "    }\n",
              "\n",
              "    .dataframe thead th {\n",
              "        text-align: right;\n",
              "    }\n",
              "</style>\n",
              "<table border=\"1\" class=\"dataframe\">\n",
              "  <thead>\n",
              "    <tr style=\"text-align: right;\">\n",
              "      <th></th>\n",
              "      <th>id</th>\n",
              "      <th>time</th>\n",
              "      <th>acc_x</th>\n",
              "      <th>acc_y</th>\n",
              "      <th>acc_z</th>\n",
              "      <th>gy_x</th>\n",
              "      <th>gy_y</th>\n",
              "      <th>gy_z</th>\n",
              "    </tr>\n",
              "  </thead>\n",
              "  <tbody>\n",
              "    <tr>\n",
              "      <th>0</th>\n",
              "      <td>0</td>\n",
              "      <td>0</td>\n",
              "      <td>1.206087</td>\n",
              "      <td>-0.179371</td>\n",
              "      <td>-0.148447</td>\n",
              "      <td>-0.591608</td>\n",
              "      <td>-30.549010</td>\n",
              "      <td>-31.676112</td>\n",
              "    </tr>\n",
              "    <tr>\n",
              "      <th>1</th>\n",
              "      <td>0</td>\n",
              "      <td>1</td>\n",
              "      <td>1.287696</td>\n",
              "      <td>-0.198974</td>\n",
              "      <td>-0.182444</td>\n",
              "      <td>0.303100</td>\n",
              "      <td>-39.139103</td>\n",
              "      <td>-24.927216</td>\n",
              "    </tr>\n",
              "    <tr>\n",
              "      <th>2</th>\n",
              "      <td>0</td>\n",
              "      <td>2</td>\n",
              "      <td>1.304609</td>\n",
              "      <td>-0.195114</td>\n",
              "      <td>-0.253382</td>\n",
              "      <td>-3.617278</td>\n",
              "      <td>-44.122565</td>\n",
              "      <td>-25.019629</td>\n",
              "    </tr>\n",
              "    <tr>\n",
              "      <th>3</th>\n",
              "      <td>0</td>\n",
              "      <td>3</td>\n",
              "      <td>1.293095</td>\n",
              "      <td>-0.230366</td>\n",
              "      <td>-0.215210</td>\n",
              "      <td>2.712986</td>\n",
              "      <td>-53.597843</td>\n",
              "      <td>-27.454013</td>\n",
              "    </tr>\n",
              "    <tr>\n",
              "      <th>4</th>\n",
              "      <td>0</td>\n",
              "      <td>4</td>\n",
              "      <td>1.300887</td>\n",
              "      <td>-0.187757</td>\n",
              "      <td>-0.222523</td>\n",
              "      <td>4.286707</td>\n",
              "      <td>-57.906561</td>\n",
              "      <td>-27.961234</td>\n",
              "    </tr>\n",
              "    <tr>\n",
              "      <th>...</th>\n",
              "      <td>...</td>\n",
              "      <td>...</td>\n",
              "      <td>...</td>\n",
              "      <td>...</td>\n",
              "      <td>...</td>\n",
              "      <td>...</td>\n",
              "      <td>...</td>\n",
              "      <td>...</td>\n",
              "    </tr>\n",
              "    <tr>\n",
              "      <th>1874995</th>\n",
              "      <td>3124</td>\n",
              "      <td>595</td>\n",
              "      <td>-0.712530</td>\n",
              "      <td>-0.658357</td>\n",
              "      <td>0.293707</td>\n",
              "      <td>-29.367857</td>\n",
              "      <td>-104.013664</td>\n",
              "      <td>-76.290437</td>\n",
              "    </tr>\n",
              "    <tr>\n",
              "      <th>1874996</th>\n",
              "      <td>3124</td>\n",
              "      <td>596</td>\n",
              "      <td>-0.683037</td>\n",
              "      <td>-0.658466</td>\n",
              "      <td>0.329223</td>\n",
              "      <td>-30.149089</td>\n",
              "      <td>-101.796809</td>\n",
              "      <td>-76.625087</td>\n",
              "    </tr>\n",
              "    <tr>\n",
              "      <th>1874997</th>\n",
              "      <td>3124</td>\n",
              "      <td>597</td>\n",
              "      <td>-0.664730</td>\n",
              "      <td>-0.666625</td>\n",
              "      <td>0.364114</td>\n",
              "      <td>-27.873095</td>\n",
              "      <td>-98.776072</td>\n",
              "      <td>-79.365125</td>\n",
              "    </tr>\n",
              "    <tr>\n",
              "      <th>1874998</th>\n",
              "      <td>3124</td>\n",
              "      <td>598</td>\n",
              "      <td>-0.630534</td>\n",
              "      <td>-0.682565</td>\n",
              "      <td>0.373696</td>\n",
              "      <td>-23.636550</td>\n",
              "      <td>-99.139495</td>\n",
              "      <td>-80.259478</td>\n",
              "    </tr>\n",
              "    <tr>\n",
              "      <th>1874999</th>\n",
              "      <td>3124</td>\n",
              "      <td>599</td>\n",
              "      <td>-0.578351</td>\n",
              "      <td>-0.700235</td>\n",
              "      <td>0.384390</td>\n",
              "      <td>-17.917626</td>\n",
              "      <td>-100.181873</td>\n",
              "      <td>-80.676229</td>\n",
              "    </tr>\n",
              "  </tbody>\n",
              "</table>\n",
              "<p>1875000 rows × 8 columns</p>\n",
              "</div>"
            ],
            "text/plain": [
              "           id  time     acc_x  ...       gy_x        gy_y       gy_z\n",
              "0           0     0  1.206087  ...  -0.591608  -30.549010 -31.676112\n",
              "1           0     1  1.287696  ...   0.303100  -39.139103 -24.927216\n",
              "2           0     2  1.304609  ...  -3.617278  -44.122565 -25.019629\n",
              "3           0     3  1.293095  ...   2.712986  -53.597843 -27.454013\n",
              "4           0     4  1.300887  ...   4.286707  -57.906561 -27.961234\n",
              "...       ...   ...       ...  ...        ...         ...        ...\n",
              "1874995  3124   595 -0.712530  ... -29.367857 -104.013664 -76.290437\n",
              "1874996  3124   596 -0.683037  ... -30.149089 -101.796809 -76.625087\n",
              "1874997  3124   597 -0.664730  ... -27.873095  -98.776072 -79.365125\n",
              "1874998  3124   598 -0.630534  ... -23.636550  -99.139495 -80.259478\n",
              "1874999  3124   599 -0.578351  ... -17.917626 -100.181873 -80.676229\n",
              "\n",
              "[1875000 rows x 8 columns]"
            ]
          },
          "metadata": {
            "tags": []
          },
          "execution_count": 7
        }
      ]
    },
    {
      "cell_type": "code",
      "metadata": {
        "colab": {
          "base_uri": "https://localhost:8080/"
        },
        "id": "yOCSHkb_wh3Y",
        "outputId": "7c2bebf1-ce3c-4da0-f9d3-b78f3e1c77ae"
      },
      "source": [
        "train['id'].value_counts()"
      ],
      "execution_count": 8,
      "outputs": [
        {
          "output_type": "execute_result",
          "data": {
            "text/plain": [
              "2047    600\n",
              "1347    600\n",
              "2378    600\n",
              "1354    600\n",
              "2379    600\n",
              "       ... \n",
              "1699    600\n",
              "675     600\n",
              "2722    600\n",
              "1698    600\n",
              "0       600\n",
              "Name: id, Length: 3125, dtype: int64"
            ]
          },
          "metadata": {
            "tags": []
          },
          "execution_count": 8
        }
      ]
    },
    {
      "cell_type": "code",
      "metadata": {
        "colab": {
          "base_uri": "https://localhost:8080/",
          "height": 419
        },
        "id": "ZLAqBajwwk0x",
        "outputId": "0a09b69d-2b7b-409c-e6e6-c268b694c63f"
      },
      "source": [
        "train_labels"
      ],
      "execution_count": 9,
      "outputs": [
        {
          "output_type": "execute_result",
          "data": {
            "text/html": [
              "<div>\n",
              "<style scoped>\n",
              "    .dataframe tbody tr th:only-of-type {\n",
              "        vertical-align: middle;\n",
              "    }\n",
              "\n",
              "    .dataframe tbody tr th {\n",
              "        vertical-align: top;\n",
              "    }\n",
              "\n",
              "    .dataframe thead th {\n",
              "        text-align: right;\n",
              "    }\n",
              "</style>\n",
              "<table border=\"1\" class=\"dataframe\">\n",
              "  <thead>\n",
              "    <tr style=\"text-align: right;\">\n",
              "      <th></th>\n",
              "      <th>id</th>\n",
              "      <th>label</th>\n",
              "      <th>label_desc</th>\n",
              "    </tr>\n",
              "  </thead>\n",
              "  <tbody>\n",
              "    <tr>\n",
              "      <th>0</th>\n",
              "      <td>0</td>\n",
              "      <td>37</td>\n",
              "      <td>Shoulder Press (dumbbell)</td>\n",
              "    </tr>\n",
              "    <tr>\n",
              "      <th>1</th>\n",
              "      <td>1</td>\n",
              "      <td>26</td>\n",
              "      <td>Non-Exercise</td>\n",
              "    </tr>\n",
              "    <tr>\n",
              "      <th>2</th>\n",
              "      <td>2</td>\n",
              "      <td>3</td>\n",
              "      <td>Biceps Curl (band)</td>\n",
              "    </tr>\n",
              "    <tr>\n",
              "      <th>3</th>\n",
              "      <td>3</td>\n",
              "      <td>26</td>\n",
              "      <td>Non-Exercise</td>\n",
              "    </tr>\n",
              "    <tr>\n",
              "      <th>4</th>\n",
              "      <td>4</td>\n",
              "      <td>26</td>\n",
              "      <td>Non-Exercise</td>\n",
              "    </tr>\n",
              "    <tr>\n",
              "      <th>...</th>\n",
              "      <td>...</td>\n",
              "      <td>...</td>\n",
              "      <td>...</td>\n",
              "    </tr>\n",
              "    <tr>\n",
              "      <th>3120</th>\n",
              "      <td>3120</td>\n",
              "      <td>26</td>\n",
              "      <td>Non-Exercise</td>\n",
              "    </tr>\n",
              "    <tr>\n",
              "      <th>3121</th>\n",
              "      <td>3121</td>\n",
              "      <td>26</td>\n",
              "      <td>Non-Exercise</td>\n",
              "    </tr>\n",
              "    <tr>\n",
              "      <th>3122</th>\n",
              "      <td>3122</td>\n",
              "      <td>15</td>\n",
              "      <td>Dynamic Stretch (at your own pace)</td>\n",
              "    </tr>\n",
              "    <tr>\n",
              "      <th>3123</th>\n",
              "      <td>3123</td>\n",
              "      <td>26</td>\n",
              "      <td>Non-Exercise</td>\n",
              "    </tr>\n",
              "    <tr>\n",
              "      <th>3124</th>\n",
              "      <td>3124</td>\n",
              "      <td>2</td>\n",
              "      <td>Bicep Curl</td>\n",
              "    </tr>\n",
              "  </tbody>\n",
              "</table>\n",
              "<p>3125 rows × 3 columns</p>\n",
              "</div>"
            ],
            "text/plain": [
              "        id  label                          label_desc\n",
              "0        0     37           Shoulder Press (dumbbell)\n",
              "1        1     26                        Non-Exercise\n",
              "2        2      3                  Biceps Curl (band)\n",
              "3        3     26                        Non-Exercise\n",
              "4        4     26                        Non-Exercise\n",
              "...    ...    ...                                 ...\n",
              "3120  3120     26                        Non-Exercise\n",
              "3121  3121     26                        Non-Exercise\n",
              "3122  3122     15  Dynamic Stretch (at your own pace)\n",
              "3123  3123     26                        Non-Exercise\n",
              "3124  3124      2                          Bicep Curl\n",
              "\n",
              "[3125 rows x 3 columns]"
            ]
          },
          "metadata": {
            "tags": []
          },
          "execution_count": 9
        }
      ]
    },
    {
      "cell_type": "code",
      "metadata": {
        "id": "cPyFOcSetxA-"
      },
      "source": [
        "ex1 = train_labels[train_labels['label']==26]"
      ],
      "execution_count": 10,
      "outputs": []
    },
    {
      "cell_type": "code",
      "metadata": {
        "id": "y4lXT1ARvnxk"
      },
      "source": [
        "idx_26 = train_labels[ (train_labels['label'] == 26 ) & (train_labels['id'] < 2042 ) ]"
      ],
      "execution_count": 11,
      "outputs": []
    },
    {
      "cell_type": "code",
      "metadata": {
        "colab": {
          "base_uri": "https://localhost:8080/",
          "height": 419
        },
        "id": "mOHqZsA5xyZX",
        "outputId": "8e7a54cc-9a70-4f0c-c6c8-df04b8aafeab"
      },
      "source": [
        "idx_26"
      ],
      "execution_count": 12,
      "outputs": [
        {
          "output_type": "execute_result",
          "data": {
            "text/html": [
              "<div>\n",
              "<style scoped>\n",
              "    .dataframe tbody tr th:only-of-type {\n",
              "        vertical-align: middle;\n",
              "    }\n",
              "\n",
              "    .dataframe tbody tr th {\n",
              "        vertical-align: top;\n",
              "    }\n",
              "\n",
              "    .dataframe thead th {\n",
              "        text-align: right;\n",
              "    }\n",
              "</style>\n",
              "<table border=\"1\" class=\"dataframe\">\n",
              "  <thead>\n",
              "    <tr style=\"text-align: right;\">\n",
              "      <th></th>\n",
              "      <th>id</th>\n",
              "      <th>label</th>\n",
              "      <th>label_desc</th>\n",
              "    </tr>\n",
              "  </thead>\n",
              "  <tbody>\n",
              "    <tr>\n",
              "      <th>1</th>\n",
              "      <td>1</td>\n",
              "      <td>26</td>\n",
              "      <td>Non-Exercise</td>\n",
              "    </tr>\n",
              "    <tr>\n",
              "      <th>3</th>\n",
              "      <td>3</td>\n",
              "      <td>26</td>\n",
              "      <td>Non-Exercise</td>\n",
              "    </tr>\n",
              "    <tr>\n",
              "      <th>4</th>\n",
              "      <td>4</td>\n",
              "      <td>26</td>\n",
              "      <td>Non-Exercise</td>\n",
              "    </tr>\n",
              "    <tr>\n",
              "      <th>5</th>\n",
              "      <td>5</td>\n",
              "      <td>26</td>\n",
              "      <td>Non-Exercise</td>\n",
              "    </tr>\n",
              "    <tr>\n",
              "      <th>6</th>\n",
              "      <td>6</td>\n",
              "      <td>26</td>\n",
              "      <td>Non-Exercise</td>\n",
              "    </tr>\n",
              "    <tr>\n",
              "      <th>...</th>\n",
              "      <td>...</td>\n",
              "      <td>...</td>\n",
              "      <td>...</td>\n",
              "    </tr>\n",
              "    <tr>\n",
              "      <th>2030</th>\n",
              "      <td>2030</td>\n",
              "      <td>26</td>\n",
              "      <td>Non-Exercise</td>\n",
              "    </tr>\n",
              "    <tr>\n",
              "      <th>2031</th>\n",
              "      <td>2031</td>\n",
              "      <td>26</td>\n",
              "      <td>Non-Exercise</td>\n",
              "    </tr>\n",
              "    <tr>\n",
              "      <th>2032</th>\n",
              "      <td>2032</td>\n",
              "      <td>26</td>\n",
              "      <td>Non-Exercise</td>\n",
              "    </tr>\n",
              "    <tr>\n",
              "      <th>2035</th>\n",
              "      <td>2035</td>\n",
              "      <td>26</td>\n",
              "      <td>Non-Exercise</td>\n",
              "    </tr>\n",
              "    <tr>\n",
              "      <th>2040</th>\n",
              "      <td>2040</td>\n",
              "      <td>26</td>\n",
              "      <td>Non-Exercise</td>\n",
              "    </tr>\n",
              "  </tbody>\n",
              "</table>\n",
              "<p>983 rows × 3 columns</p>\n",
              "</div>"
            ],
            "text/plain": [
              "        id  label    label_desc\n",
              "1        1     26  Non-Exercise\n",
              "3        3     26  Non-Exercise\n",
              "4        4     26  Non-Exercise\n",
              "5        5     26  Non-Exercise\n",
              "6        6     26  Non-Exercise\n",
              "...    ...    ...           ...\n",
              "2030  2030     26  Non-Exercise\n",
              "2031  2031     26  Non-Exercise\n",
              "2032  2032     26  Non-Exercise\n",
              "2035  2035     26  Non-Exercise\n",
              "2040  2040     26  Non-Exercise\n",
              "\n",
              "[983 rows x 3 columns]"
            ]
          },
          "metadata": {
            "tags": []
          },
          "execution_count": 12
        }
      ]
    },
    {
      "cell_type": "code",
      "metadata": {
        "id": "8dJVwJ_SvwRo"
      },
      "source": [
        "train_dup = train"
      ],
      "execution_count": 13,
      "outputs": []
    },
    {
      "cell_type": "code",
      "metadata": {
        "id": "1hjL-RNuyBLF"
      },
      "source": [
        "merge_test = pd.merge(train_dup , idx_26 , on=\"id\" , how=\"outer\")"
      ],
      "execution_count": 14,
      "outputs": []
    },
    {
      "cell_type": "code",
      "metadata": {
        "id": "cPcVPeWeyH2p"
      },
      "source": [
        "train_ = merge_test[merge_test.label != 26.0]"
      ],
      "execution_count": 15,
      "outputs": []
    },
    {
      "cell_type": "code",
      "metadata": {
        "colab": {
          "base_uri": "https://localhost:8080/",
          "height": 419
        },
        "id": "iorJihwe07t0",
        "outputId": "9e721dae-bfe2-4ec6-b2b9-313ba591bb23"
      },
      "source": [
        "train_"
      ],
      "execution_count": 16,
      "outputs": [
        {
          "output_type": "execute_result",
          "data": {
            "text/html": [
              "<div>\n",
              "<style scoped>\n",
              "    .dataframe tbody tr th:only-of-type {\n",
              "        vertical-align: middle;\n",
              "    }\n",
              "\n",
              "    .dataframe tbody tr th {\n",
              "        vertical-align: top;\n",
              "    }\n",
              "\n",
              "    .dataframe thead th {\n",
              "        text-align: right;\n",
              "    }\n",
              "</style>\n",
              "<table border=\"1\" class=\"dataframe\">\n",
              "  <thead>\n",
              "    <tr style=\"text-align: right;\">\n",
              "      <th></th>\n",
              "      <th>id</th>\n",
              "      <th>time</th>\n",
              "      <th>acc_x</th>\n",
              "      <th>acc_y</th>\n",
              "      <th>acc_z</th>\n",
              "      <th>gy_x</th>\n",
              "      <th>gy_y</th>\n",
              "      <th>gy_z</th>\n",
              "      <th>label</th>\n",
              "      <th>label_desc</th>\n",
              "    </tr>\n",
              "  </thead>\n",
              "  <tbody>\n",
              "    <tr>\n",
              "      <th>0</th>\n",
              "      <td>0</td>\n",
              "      <td>0</td>\n",
              "      <td>1.206087</td>\n",
              "      <td>-0.179371</td>\n",
              "      <td>-0.148447</td>\n",
              "      <td>-0.591608</td>\n",
              "      <td>-30.549010</td>\n",
              "      <td>-31.676112</td>\n",
              "      <td>NaN</td>\n",
              "      <td>NaN</td>\n",
              "    </tr>\n",
              "    <tr>\n",
              "      <th>1</th>\n",
              "      <td>0</td>\n",
              "      <td>1</td>\n",
              "      <td>1.287696</td>\n",
              "      <td>-0.198974</td>\n",
              "      <td>-0.182444</td>\n",
              "      <td>0.303100</td>\n",
              "      <td>-39.139103</td>\n",
              "      <td>-24.927216</td>\n",
              "      <td>NaN</td>\n",
              "      <td>NaN</td>\n",
              "    </tr>\n",
              "    <tr>\n",
              "      <th>2</th>\n",
              "      <td>0</td>\n",
              "      <td>2</td>\n",
              "      <td>1.304609</td>\n",
              "      <td>-0.195114</td>\n",
              "      <td>-0.253382</td>\n",
              "      <td>-3.617278</td>\n",
              "      <td>-44.122565</td>\n",
              "      <td>-25.019629</td>\n",
              "      <td>NaN</td>\n",
              "      <td>NaN</td>\n",
              "    </tr>\n",
              "    <tr>\n",
              "      <th>3</th>\n",
              "      <td>0</td>\n",
              "      <td>3</td>\n",
              "      <td>1.293095</td>\n",
              "      <td>-0.230366</td>\n",
              "      <td>-0.215210</td>\n",
              "      <td>2.712986</td>\n",
              "      <td>-53.597843</td>\n",
              "      <td>-27.454013</td>\n",
              "      <td>NaN</td>\n",
              "      <td>NaN</td>\n",
              "    </tr>\n",
              "    <tr>\n",
              "      <th>4</th>\n",
              "      <td>0</td>\n",
              "      <td>4</td>\n",
              "      <td>1.300887</td>\n",
              "      <td>-0.187757</td>\n",
              "      <td>-0.222523</td>\n",
              "      <td>4.286707</td>\n",
              "      <td>-57.906561</td>\n",
              "      <td>-27.961234</td>\n",
              "      <td>NaN</td>\n",
              "      <td>NaN</td>\n",
              "    </tr>\n",
              "    <tr>\n",
              "      <th>...</th>\n",
              "      <td>...</td>\n",
              "      <td>...</td>\n",
              "      <td>...</td>\n",
              "      <td>...</td>\n",
              "      <td>...</td>\n",
              "      <td>...</td>\n",
              "      <td>...</td>\n",
              "      <td>...</td>\n",
              "      <td>...</td>\n",
              "      <td>...</td>\n",
              "    </tr>\n",
              "    <tr>\n",
              "      <th>1874995</th>\n",
              "      <td>3124</td>\n",
              "      <td>595</td>\n",
              "      <td>-0.712530</td>\n",
              "      <td>-0.658357</td>\n",
              "      <td>0.293707</td>\n",
              "      <td>-29.367857</td>\n",
              "      <td>-104.013664</td>\n",
              "      <td>-76.290437</td>\n",
              "      <td>NaN</td>\n",
              "      <td>NaN</td>\n",
              "    </tr>\n",
              "    <tr>\n",
              "      <th>1874996</th>\n",
              "      <td>3124</td>\n",
              "      <td>596</td>\n",
              "      <td>-0.683037</td>\n",
              "      <td>-0.658466</td>\n",
              "      <td>0.329223</td>\n",
              "      <td>-30.149089</td>\n",
              "      <td>-101.796809</td>\n",
              "      <td>-76.625087</td>\n",
              "      <td>NaN</td>\n",
              "      <td>NaN</td>\n",
              "    </tr>\n",
              "    <tr>\n",
              "      <th>1874997</th>\n",
              "      <td>3124</td>\n",
              "      <td>597</td>\n",
              "      <td>-0.664730</td>\n",
              "      <td>-0.666625</td>\n",
              "      <td>0.364114</td>\n",
              "      <td>-27.873095</td>\n",
              "      <td>-98.776072</td>\n",
              "      <td>-79.365125</td>\n",
              "      <td>NaN</td>\n",
              "      <td>NaN</td>\n",
              "    </tr>\n",
              "    <tr>\n",
              "      <th>1874998</th>\n",
              "      <td>3124</td>\n",
              "      <td>598</td>\n",
              "      <td>-0.630534</td>\n",
              "      <td>-0.682565</td>\n",
              "      <td>0.373696</td>\n",
              "      <td>-23.636550</td>\n",
              "      <td>-99.139495</td>\n",
              "      <td>-80.259478</td>\n",
              "      <td>NaN</td>\n",
              "      <td>NaN</td>\n",
              "    </tr>\n",
              "    <tr>\n",
              "      <th>1874999</th>\n",
              "      <td>3124</td>\n",
              "      <td>599</td>\n",
              "      <td>-0.578351</td>\n",
              "      <td>-0.700235</td>\n",
              "      <td>0.384390</td>\n",
              "      <td>-17.917626</td>\n",
              "      <td>-100.181873</td>\n",
              "      <td>-80.676229</td>\n",
              "      <td>NaN</td>\n",
              "      <td>NaN</td>\n",
              "    </tr>\n",
              "  </tbody>\n",
              "</table>\n",
              "<p>1285200 rows × 10 columns</p>\n",
              "</div>"
            ],
            "text/plain": [
              "           id  time     acc_x  ...       gy_z  label  label_desc\n",
              "0           0     0  1.206087  ... -31.676112    NaN         NaN\n",
              "1           0     1  1.287696  ... -24.927216    NaN         NaN\n",
              "2           0     2  1.304609  ... -25.019629    NaN         NaN\n",
              "3           0     3  1.293095  ... -27.454013    NaN         NaN\n",
              "4           0     4  1.300887  ... -27.961234    NaN         NaN\n",
              "...       ...   ...       ...  ...        ...    ...         ...\n",
              "1874995  3124   595 -0.712530  ... -76.290437    NaN         NaN\n",
              "1874996  3124   596 -0.683037  ... -76.625087    NaN         NaN\n",
              "1874997  3124   597 -0.664730  ... -79.365125    NaN         NaN\n",
              "1874998  3124   598 -0.630534  ... -80.259478    NaN         NaN\n",
              "1874999  3124   599 -0.578351  ... -80.676229    NaN         NaN\n",
              "\n",
              "[1285200 rows x 10 columns]"
            ]
          },
          "metadata": {
            "tags": []
          },
          "execution_count": 16
        }
      ]
    },
    {
      "cell_type": "code",
      "metadata": {
        "id": "66GrxD2iyqd9"
      },
      "source": [
        "del train_['label']"
      ],
      "execution_count": 17,
      "outputs": []
    },
    {
      "cell_type": "code",
      "metadata": {
        "id": "zgvhPynp1kav"
      },
      "source": [
        "del train_['label_desc']"
      ],
      "execution_count": 18,
      "outputs": []
    },
    {
      "cell_type": "code",
      "metadata": {
        "colab": {
          "base_uri": "https://localhost:8080/",
          "height": 419
        },
        "id": "LGJ6T_Vh17E7",
        "outputId": "513427a7-49ff-4085-8d2d-f64793346005"
      },
      "source": [
        "train_"
      ],
      "execution_count": 19,
      "outputs": [
        {
          "output_type": "execute_result",
          "data": {
            "text/html": [
              "<div>\n",
              "<style scoped>\n",
              "    .dataframe tbody tr th:only-of-type {\n",
              "        vertical-align: middle;\n",
              "    }\n",
              "\n",
              "    .dataframe tbody tr th {\n",
              "        vertical-align: top;\n",
              "    }\n",
              "\n",
              "    .dataframe thead th {\n",
              "        text-align: right;\n",
              "    }\n",
              "</style>\n",
              "<table border=\"1\" class=\"dataframe\">\n",
              "  <thead>\n",
              "    <tr style=\"text-align: right;\">\n",
              "      <th></th>\n",
              "      <th>id</th>\n",
              "      <th>time</th>\n",
              "      <th>acc_x</th>\n",
              "      <th>acc_y</th>\n",
              "      <th>acc_z</th>\n",
              "      <th>gy_x</th>\n",
              "      <th>gy_y</th>\n",
              "      <th>gy_z</th>\n",
              "    </tr>\n",
              "  </thead>\n",
              "  <tbody>\n",
              "    <tr>\n",
              "      <th>0</th>\n",
              "      <td>0</td>\n",
              "      <td>0</td>\n",
              "      <td>1.206087</td>\n",
              "      <td>-0.179371</td>\n",
              "      <td>-0.148447</td>\n",
              "      <td>-0.591608</td>\n",
              "      <td>-30.549010</td>\n",
              "      <td>-31.676112</td>\n",
              "    </tr>\n",
              "    <tr>\n",
              "      <th>1</th>\n",
              "      <td>0</td>\n",
              "      <td>1</td>\n",
              "      <td>1.287696</td>\n",
              "      <td>-0.198974</td>\n",
              "      <td>-0.182444</td>\n",
              "      <td>0.303100</td>\n",
              "      <td>-39.139103</td>\n",
              "      <td>-24.927216</td>\n",
              "    </tr>\n",
              "    <tr>\n",
              "      <th>2</th>\n",
              "      <td>0</td>\n",
              "      <td>2</td>\n",
              "      <td>1.304609</td>\n",
              "      <td>-0.195114</td>\n",
              "      <td>-0.253382</td>\n",
              "      <td>-3.617278</td>\n",
              "      <td>-44.122565</td>\n",
              "      <td>-25.019629</td>\n",
              "    </tr>\n",
              "    <tr>\n",
              "      <th>3</th>\n",
              "      <td>0</td>\n",
              "      <td>3</td>\n",
              "      <td>1.293095</td>\n",
              "      <td>-0.230366</td>\n",
              "      <td>-0.215210</td>\n",
              "      <td>2.712986</td>\n",
              "      <td>-53.597843</td>\n",
              "      <td>-27.454013</td>\n",
              "    </tr>\n",
              "    <tr>\n",
              "      <th>4</th>\n",
              "      <td>0</td>\n",
              "      <td>4</td>\n",
              "      <td>1.300887</td>\n",
              "      <td>-0.187757</td>\n",
              "      <td>-0.222523</td>\n",
              "      <td>4.286707</td>\n",
              "      <td>-57.906561</td>\n",
              "      <td>-27.961234</td>\n",
              "    </tr>\n",
              "    <tr>\n",
              "      <th>...</th>\n",
              "      <td>...</td>\n",
              "      <td>...</td>\n",
              "      <td>...</td>\n",
              "      <td>...</td>\n",
              "      <td>...</td>\n",
              "      <td>...</td>\n",
              "      <td>...</td>\n",
              "      <td>...</td>\n",
              "    </tr>\n",
              "    <tr>\n",
              "      <th>1874995</th>\n",
              "      <td>3124</td>\n",
              "      <td>595</td>\n",
              "      <td>-0.712530</td>\n",
              "      <td>-0.658357</td>\n",
              "      <td>0.293707</td>\n",
              "      <td>-29.367857</td>\n",
              "      <td>-104.013664</td>\n",
              "      <td>-76.290437</td>\n",
              "    </tr>\n",
              "    <tr>\n",
              "      <th>1874996</th>\n",
              "      <td>3124</td>\n",
              "      <td>596</td>\n",
              "      <td>-0.683037</td>\n",
              "      <td>-0.658466</td>\n",
              "      <td>0.329223</td>\n",
              "      <td>-30.149089</td>\n",
              "      <td>-101.796809</td>\n",
              "      <td>-76.625087</td>\n",
              "    </tr>\n",
              "    <tr>\n",
              "      <th>1874997</th>\n",
              "      <td>3124</td>\n",
              "      <td>597</td>\n",
              "      <td>-0.664730</td>\n",
              "      <td>-0.666625</td>\n",
              "      <td>0.364114</td>\n",
              "      <td>-27.873095</td>\n",
              "      <td>-98.776072</td>\n",
              "      <td>-79.365125</td>\n",
              "    </tr>\n",
              "    <tr>\n",
              "      <th>1874998</th>\n",
              "      <td>3124</td>\n",
              "      <td>598</td>\n",
              "      <td>-0.630534</td>\n",
              "      <td>-0.682565</td>\n",
              "      <td>0.373696</td>\n",
              "      <td>-23.636550</td>\n",
              "      <td>-99.139495</td>\n",
              "      <td>-80.259478</td>\n",
              "    </tr>\n",
              "    <tr>\n",
              "      <th>1874999</th>\n",
              "      <td>3124</td>\n",
              "      <td>599</td>\n",
              "      <td>-0.578351</td>\n",
              "      <td>-0.700235</td>\n",
              "      <td>0.384390</td>\n",
              "      <td>-17.917626</td>\n",
              "      <td>-100.181873</td>\n",
              "      <td>-80.676229</td>\n",
              "    </tr>\n",
              "  </tbody>\n",
              "</table>\n",
              "<p>1285200 rows × 8 columns</p>\n",
              "</div>"
            ],
            "text/plain": [
              "           id  time     acc_x  ...       gy_x        gy_y       gy_z\n",
              "0           0     0  1.206087  ...  -0.591608  -30.549010 -31.676112\n",
              "1           0     1  1.287696  ...   0.303100  -39.139103 -24.927216\n",
              "2           0     2  1.304609  ...  -3.617278  -44.122565 -25.019629\n",
              "3           0     3  1.293095  ...   2.712986  -53.597843 -27.454013\n",
              "4           0     4  1.300887  ...   4.286707  -57.906561 -27.961234\n",
              "...       ...   ...       ...  ...        ...         ...        ...\n",
              "1874995  3124   595 -0.712530  ... -29.367857 -104.013664 -76.290437\n",
              "1874996  3124   596 -0.683037  ... -30.149089 -101.796809 -76.625087\n",
              "1874997  3124   597 -0.664730  ... -27.873095  -98.776072 -79.365125\n",
              "1874998  3124   598 -0.630534  ... -23.636550  -99.139495 -80.259478\n",
              "1874999  3124   599 -0.578351  ... -17.917626 -100.181873 -80.676229\n",
              "\n",
              "[1285200 rows x 8 columns]"
            ]
          },
          "metadata": {
            "tags": []
          },
          "execution_count": 19
        }
      ]
    },
    {
      "cell_type": "code",
      "metadata": {
        "colab": {
          "base_uri": "https://localhost:8080/"
        },
        "id": "tpErtOzhxEnQ",
        "outputId": "da8955e1-5fec-4847-d600-0f453bc6d049"
      },
      "source": [
        "print(X.shape)"
      ],
      "execution_count": 21,
      "outputs": [
        {
          "output_type": "stream",
          "text": [
            "torch.Size([2142, 600, 6])\n"
          ],
          "name": "stdout"
        }
      ]
    },
    {
      "cell_type": "code",
      "metadata": {
        "id": "UcfrqbLZ2zx8"
      },
      "source": [
        "train_labels_ = train_labels\r\n",
        "merge_test = pd.merge(train_labels_ , idx_26 , on=\"id\" , how=\"outer\")"
      ],
      "execution_count": 22,
      "outputs": []
    },
    {
      "cell_type": "code",
      "metadata": {
        "colab": {
          "base_uri": "https://localhost:8080/",
          "height": 419
        },
        "id": "1r53psMk-vJ7",
        "outputId": "1005f58a-1ba2-4edf-929f-0744f9544e19"
      },
      "source": [
        "merge_test"
      ],
      "execution_count": 23,
      "outputs": [
        {
          "output_type": "execute_result",
          "data": {
            "text/html": [
              "<div>\n",
              "<style scoped>\n",
              "    .dataframe tbody tr th:only-of-type {\n",
              "        vertical-align: middle;\n",
              "    }\n",
              "\n",
              "    .dataframe tbody tr th {\n",
              "        vertical-align: top;\n",
              "    }\n",
              "\n",
              "    .dataframe thead th {\n",
              "        text-align: right;\n",
              "    }\n",
              "</style>\n",
              "<table border=\"1\" class=\"dataframe\">\n",
              "  <thead>\n",
              "    <tr style=\"text-align: right;\">\n",
              "      <th></th>\n",
              "      <th>id</th>\n",
              "      <th>label_x</th>\n",
              "      <th>label_desc_x</th>\n",
              "      <th>label_y</th>\n",
              "      <th>label_desc_y</th>\n",
              "    </tr>\n",
              "  </thead>\n",
              "  <tbody>\n",
              "    <tr>\n",
              "      <th>0</th>\n",
              "      <td>0</td>\n",
              "      <td>37</td>\n",
              "      <td>Shoulder Press (dumbbell)</td>\n",
              "      <td>NaN</td>\n",
              "      <td>NaN</td>\n",
              "    </tr>\n",
              "    <tr>\n",
              "      <th>1</th>\n",
              "      <td>1</td>\n",
              "      <td>26</td>\n",
              "      <td>Non-Exercise</td>\n",
              "      <td>26.0</td>\n",
              "      <td>Non-Exercise</td>\n",
              "    </tr>\n",
              "    <tr>\n",
              "      <th>2</th>\n",
              "      <td>2</td>\n",
              "      <td>3</td>\n",
              "      <td>Biceps Curl (band)</td>\n",
              "      <td>NaN</td>\n",
              "      <td>NaN</td>\n",
              "    </tr>\n",
              "    <tr>\n",
              "      <th>3</th>\n",
              "      <td>3</td>\n",
              "      <td>26</td>\n",
              "      <td>Non-Exercise</td>\n",
              "      <td>26.0</td>\n",
              "      <td>Non-Exercise</td>\n",
              "    </tr>\n",
              "    <tr>\n",
              "      <th>4</th>\n",
              "      <td>4</td>\n",
              "      <td>26</td>\n",
              "      <td>Non-Exercise</td>\n",
              "      <td>26.0</td>\n",
              "      <td>Non-Exercise</td>\n",
              "    </tr>\n",
              "    <tr>\n",
              "      <th>...</th>\n",
              "      <td>...</td>\n",
              "      <td>...</td>\n",
              "      <td>...</td>\n",
              "      <td>...</td>\n",
              "      <td>...</td>\n",
              "    </tr>\n",
              "    <tr>\n",
              "      <th>3120</th>\n",
              "      <td>3120</td>\n",
              "      <td>26</td>\n",
              "      <td>Non-Exercise</td>\n",
              "      <td>NaN</td>\n",
              "      <td>NaN</td>\n",
              "    </tr>\n",
              "    <tr>\n",
              "      <th>3121</th>\n",
              "      <td>3121</td>\n",
              "      <td>26</td>\n",
              "      <td>Non-Exercise</td>\n",
              "      <td>NaN</td>\n",
              "      <td>NaN</td>\n",
              "    </tr>\n",
              "    <tr>\n",
              "      <th>3122</th>\n",
              "      <td>3122</td>\n",
              "      <td>15</td>\n",
              "      <td>Dynamic Stretch (at your own pace)</td>\n",
              "      <td>NaN</td>\n",
              "      <td>NaN</td>\n",
              "    </tr>\n",
              "    <tr>\n",
              "      <th>3123</th>\n",
              "      <td>3123</td>\n",
              "      <td>26</td>\n",
              "      <td>Non-Exercise</td>\n",
              "      <td>NaN</td>\n",
              "      <td>NaN</td>\n",
              "    </tr>\n",
              "    <tr>\n",
              "      <th>3124</th>\n",
              "      <td>3124</td>\n",
              "      <td>2</td>\n",
              "      <td>Bicep Curl</td>\n",
              "      <td>NaN</td>\n",
              "      <td>NaN</td>\n",
              "    </tr>\n",
              "  </tbody>\n",
              "</table>\n",
              "<p>3125 rows × 5 columns</p>\n",
              "</div>"
            ],
            "text/plain": [
              "        id  label_x                        label_desc_x  label_y  label_desc_y\n",
              "0        0       37           Shoulder Press (dumbbell)      NaN           NaN\n",
              "1        1       26                        Non-Exercise     26.0  Non-Exercise\n",
              "2        2        3                  Biceps Curl (band)      NaN           NaN\n",
              "3        3       26                        Non-Exercise     26.0  Non-Exercise\n",
              "4        4       26                        Non-Exercise     26.0  Non-Exercise\n",
              "...    ...      ...                                 ...      ...           ...\n",
              "3120  3120       26                        Non-Exercise      NaN           NaN\n",
              "3121  3121       26                        Non-Exercise      NaN           NaN\n",
              "3122  3122       15  Dynamic Stretch (at your own pace)      NaN           NaN\n",
              "3123  3123       26                        Non-Exercise      NaN           NaN\n",
              "3124  3124        2                          Bicep Curl      NaN           NaN\n",
              "\n",
              "[3125 rows x 5 columns]"
            ]
          },
          "metadata": {
            "tags": []
          },
          "execution_count": 23
        }
      ]
    },
    {
      "cell_type": "code",
      "metadata": {
        "id": "Qhc5I8U94FON"
      },
      "source": [
        "merge_test = merge_test[merge_test['label_y'] != 26.0]"
      ],
      "execution_count": 24,
      "outputs": []
    },
    {
      "cell_type": "code",
      "metadata": {
        "id": "v47UaXxS4OGY"
      },
      "source": [
        "del merge_test['label_y']\r\n",
        "del merge_test['label_desc_y']"
      ],
      "execution_count": 25,
      "outputs": []
    },
    {
      "cell_type": "code",
      "metadata": {
        "id": "mZB6tCZp4NuP"
      },
      "source": [
        "train_labels_ = merge_test"
      ],
      "execution_count": 26,
      "outputs": []
    },
    {
      "cell_type": "code",
      "metadata": {
        "colab": {
          "base_uri": "https://localhost:8080/",
          "height": 419
        },
        "id": "bWxoo5oP4aEs",
        "outputId": "c629e0b3-e263-4251-e145-7bcbd0cc2d10"
      },
      "source": [
        "train_labels_"
      ],
      "execution_count": 27,
      "outputs": [
        {
          "output_type": "execute_result",
          "data": {
            "text/html": [
              "<div>\n",
              "<style scoped>\n",
              "    .dataframe tbody tr th:only-of-type {\n",
              "        vertical-align: middle;\n",
              "    }\n",
              "\n",
              "    .dataframe tbody tr th {\n",
              "        vertical-align: top;\n",
              "    }\n",
              "\n",
              "    .dataframe thead th {\n",
              "        text-align: right;\n",
              "    }\n",
              "</style>\n",
              "<table border=\"1\" class=\"dataframe\">\n",
              "  <thead>\n",
              "    <tr style=\"text-align: right;\">\n",
              "      <th></th>\n",
              "      <th>id</th>\n",
              "      <th>label_x</th>\n",
              "      <th>label_desc_x</th>\n",
              "    </tr>\n",
              "  </thead>\n",
              "  <tbody>\n",
              "    <tr>\n",
              "      <th>0</th>\n",
              "      <td>0</td>\n",
              "      <td>37</td>\n",
              "      <td>Shoulder Press (dumbbell)</td>\n",
              "    </tr>\n",
              "    <tr>\n",
              "      <th>2</th>\n",
              "      <td>2</td>\n",
              "      <td>3</td>\n",
              "      <td>Biceps Curl (band)</td>\n",
              "    </tr>\n",
              "    <tr>\n",
              "      <th>12</th>\n",
              "      <td>12</td>\n",
              "      <td>39</td>\n",
              "      <td>Side Plank Right side</td>\n",
              "    </tr>\n",
              "    <tr>\n",
              "      <th>13</th>\n",
              "      <td>13</td>\n",
              "      <td>28</td>\n",
              "      <td>Plank</td>\n",
              "    </tr>\n",
              "    <tr>\n",
              "      <th>20</th>\n",
              "      <td>20</td>\n",
              "      <td>6</td>\n",
              "      <td>Chest Press (rack)</td>\n",
              "    </tr>\n",
              "    <tr>\n",
              "      <th>...</th>\n",
              "      <td>...</td>\n",
              "      <td>...</td>\n",
              "      <td>...</td>\n",
              "    </tr>\n",
              "    <tr>\n",
              "      <th>3120</th>\n",
              "      <td>3120</td>\n",
              "      <td>26</td>\n",
              "      <td>Non-Exercise</td>\n",
              "    </tr>\n",
              "    <tr>\n",
              "      <th>3121</th>\n",
              "      <td>3121</td>\n",
              "      <td>26</td>\n",
              "      <td>Non-Exercise</td>\n",
              "    </tr>\n",
              "    <tr>\n",
              "      <th>3122</th>\n",
              "      <td>3122</td>\n",
              "      <td>15</td>\n",
              "      <td>Dynamic Stretch (at your own pace)</td>\n",
              "    </tr>\n",
              "    <tr>\n",
              "      <th>3123</th>\n",
              "      <td>3123</td>\n",
              "      <td>26</td>\n",
              "      <td>Non-Exercise</td>\n",
              "    </tr>\n",
              "    <tr>\n",
              "      <th>3124</th>\n",
              "      <td>3124</td>\n",
              "      <td>2</td>\n",
              "      <td>Bicep Curl</td>\n",
              "    </tr>\n",
              "  </tbody>\n",
              "</table>\n",
              "<p>2142 rows × 3 columns</p>\n",
              "</div>"
            ],
            "text/plain": [
              "        id  label_x                        label_desc_x\n",
              "0        0       37           Shoulder Press (dumbbell)\n",
              "2        2        3                  Biceps Curl (band)\n",
              "12      12       39               Side Plank Right side\n",
              "13      13       28                               Plank\n",
              "20      20        6                  Chest Press (rack)\n",
              "...    ...      ...                                 ...\n",
              "3120  3120       26                        Non-Exercise\n",
              "3121  3121       26                        Non-Exercise\n",
              "3122  3122       15  Dynamic Stretch (at your own pace)\n",
              "3123  3123       26                        Non-Exercise\n",
              "3124  3124        2                          Bicep Curl\n",
              "\n",
              "[2142 rows x 3 columns]"
            ]
          },
          "metadata": {
            "tags": []
          },
          "execution_count": 27
        }
      ]
    },
    {
      "cell_type": "code",
      "metadata": {
        "id": "TnJu25pMw52r"
      },
      "source": [
        "X = torch.FloatTensor(train_.iloc[:,2:].values).view(-1, 600, 6)"
      ],
      "execution_count": 20,
      "outputs": []
    },
    {
      "cell_type": "code",
      "metadata": {
        "id": "kLZD8hFFxFMw"
      },
      "source": [
        "y = torch.FloatTensor(train_labels_['label_x'].values)"
      ],
      "execution_count": 28,
      "outputs": []
    },
    {
      "cell_type": "code",
      "metadata": {
        "colab": {
          "base_uri": "https://localhost:8080/"
        },
        "id": "pZkMnQQb2v9D",
        "outputId": "c2722427-1f61-47b1-a753-0194b6224cff"
      },
      "source": [
        "y.shape"
      ],
      "execution_count": 29,
      "outputs": [
        {
          "output_type": "execute_result",
          "data": {
            "text/plain": [
              "torch.Size([2142])"
            ]
          },
          "metadata": {
            "tags": []
          },
          "execution_count": 29
        }
      ]
    },
    {
      "cell_type": "code",
      "metadata": {
        "id": "EnYTH-GFxbhu"
      },
      "source": [
        "def to_categorical(y, num_classes):\r\n",
        "    \"\"\" 1-hot encodes a tensor \"\"\"\r\n",
        "    return np.eye(num_classes, dtype='uint8')[y]"
      ],
      "execution_count": 30,
      "outputs": []
    },
    {
      "cell_type": "code",
      "metadata": {
        "id": "lh65JLBcxdO7"
      },
      "source": [
        "y = y.view(-1, 1)"
      ],
      "execution_count": 31,
      "outputs": []
    },
    {
      "cell_type": "code",
      "metadata": {
        "colab": {
          "base_uri": "https://localhost:8080/"
        },
        "id": "30pEQ3L8z77e",
        "outputId": "cb05f4dd-40bb-4898-8dcf-d35b54094900"
      },
      "source": [
        "y.shape"
      ],
      "execution_count": 34,
      "outputs": [
        {
          "output_type": "execute_result",
          "data": {
            "text/plain": [
              "torch.Size([2142, 1])"
            ]
          },
          "metadata": {
            "tags": []
          },
          "execution_count": 34
        }
      ]
    },
    {
      "cell_type": "code",
      "metadata": {
        "id": "JLrrfUz30AAH"
      },
      "source": [
        "class Net(torch.nn.Module):\r\n",
        "  def __init__(self , input_size , hidden_size):\r\n",
        "    super(Net, self).__init__()\r\n",
        "    self.lstm = torch.nn.LSTM(input_size , hidden_size , batch_first= True)\r\n",
        "    self.fc1 = torch.nn.Linear(hidden_size , 128 , bias = True)\r\n",
        "    self.relu = torch.nn.ReLU()\r\n",
        "    self.fc2 = torch.nn.Linear(128,61 ,bias = True)\r\n",
        "\r\n",
        "  def forward(self, x):\r\n",
        "    x, _status = self.lstm(x)\r\n",
        "    x = self.fc1(x)\r\n",
        "    x = self.relu(x)\r\n",
        "    x = self.fc2(x)\r\n",
        "    return x"
      ],
      "execution_count": 20,
      "outputs": []
    },
    {
      "cell_type": "code",
      "metadata": {
        "id": "RqAW-Zbq7dwO"
      },
      "source": [
        "output = Net(6,61)"
      ],
      "execution_count": 21,
      "outputs": []
    },
    {
      "cell_type": "code",
      "metadata": {
        "id": "nPhUedFK5vt9"
      },
      "source": [
        "criterion = torch.nn.CrossEntropyLoss()\r\n",
        "optimizer = optim.Adam(output.parameters(), 1e-3)"
      ],
      "execution_count": 37,
      "outputs": []
    },
    {
      "cell_type": "code",
      "metadata": {
        "id": "3etvUnvhTA1x"
      },
      "source": [
        "y = y.squeeze(1).long()"
      ],
      "execution_count": 38,
      "outputs": []
    },
    {
      "cell_type": "code",
      "metadata": {
        "colab": {
          "base_uri": "https://localhost:8080/"
        },
        "id": "Am35FPEt695X",
        "outputId": "edbab4ce-2d2a-4e43-fade-8a298b07643b"
      },
      "source": [
        "for i in range(4):\r\n",
        "  optimizer.zero_grad()\r\n",
        "  outputs = output(X)\r\n",
        "  loss = criterion(outputs[:,-1,:] , y)\r\n",
        "  loss.backward()\r\n",
        "  optimizer.step()\r\n",
        "  \r\n",
        "  print('epoch : ',i, \" loss : \", loss.item(), '\\n')"
      ],
      "execution_count": 39,
      "outputs": [
        {
          "output_type": "stream",
          "text": [
            "epoch :  0  loss :  4.087735652923584 \n",
            "\n",
            "epoch :  1  loss :  4.071544647216797 \n",
            "\n",
            "epoch :  2  loss :  4.055592060089111 \n",
            "\n",
            "epoch :  3  loss :  4.039753437042236 \n",
            "\n"
          ],
          "name": "stdout"
        }
      ]
    },
    {
      "cell_type": "code",
      "metadata": {
        "id": "UaWgIxwWB9Bs"
      },
      "source": [
        "with torch.no_grad():\r\n",
        "  X_test = torch.FloatTensor(test.iloc[:,2:].values).view(-1, 600, 6)\r\n",
        "  pred_test = output(X_test)"
      ],
      "execution_count": 28,
      "outputs": []
    },
    {
      "cell_type": "code",
      "metadata": {
        "colab": {
          "base_uri": "https://localhost:8080/",
          "height": 419
        },
        "id": "yp8nI50ZDSPF",
        "outputId": "ce60aaf2-afcb-44a0-ac1e-dd087148b608"
      },
      "source": [
        "pd.DataFrame(torch.argmax(pred_test[:, -1, :], axis = 1))"
      ],
      "execution_count": 29,
      "outputs": [
        {
          "output_type": "execute_result",
          "data": {
            "text/html": [
              "<div>\n",
              "<style scoped>\n",
              "    .dataframe tbody tr th:only-of-type {\n",
              "        vertical-align: middle;\n",
              "    }\n",
              "\n",
              "    .dataframe tbody tr th {\n",
              "        vertical-align: top;\n",
              "    }\n",
              "\n",
              "    .dataframe thead th {\n",
              "        text-align: right;\n",
              "    }\n",
              "</style>\n",
              "<table border=\"1\" class=\"dataframe\">\n",
              "  <thead>\n",
              "    <tr style=\"text-align: right;\">\n",
              "      <th></th>\n",
              "      <th>0</th>\n",
              "    </tr>\n",
              "  </thead>\n",
              "  <tbody>\n",
              "    <tr>\n",
              "      <th>0</th>\n",
              "      <td>40</td>\n",
              "    </tr>\n",
              "    <tr>\n",
              "      <th>1</th>\n",
              "      <td>40</td>\n",
              "    </tr>\n",
              "    <tr>\n",
              "      <th>2</th>\n",
              "      <td>18</td>\n",
              "    </tr>\n",
              "    <tr>\n",
              "      <th>3</th>\n",
              "      <td>40</td>\n",
              "    </tr>\n",
              "    <tr>\n",
              "      <th>4</th>\n",
              "      <td>18</td>\n",
              "    </tr>\n",
              "    <tr>\n",
              "      <th>...</th>\n",
              "      <td>...</td>\n",
              "    </tr>\n",
              "    <tr>\n",
              "      <th>777</th>\n",
              "      <td>26</td>\n",
              "    </tr>\n",
              "    <tr>\n",
              "      <th>778</th>\n",
              "      <td>4</td>\n",
              "    </tr>\n",
              "    <tr>\n",
              "      <th>779</th>\n",
              "      <td>26</td>\n",
              "    </tr>\n",
              "    <tr>\n",
              "      <th>780</th>\n",
              "      <td>26</td>\n",
              "    </tr>\n",
              "    <tr>\n",
              "      <th>781</th>\n",
              "      <td>26</td>\n",
              "    </tr>\n",
              "  </tbody>\n",
              "</table>\n",
              "<p>782 rows × 1 columns</p>\n",
              "</div>"
            ],
            "text/plain": [
              "      0\n",
              "0    40\n",
              "1    40\n",
              "2    18\n",
              "3    40\n",
              "4    18\n",
              "..   ..\n",
              "777  26\n",
              "778   4\n",
              "779  26\n",
              "780  26\n",
              "781  26\n",
              "\n",
              "[782 rows x 1 columns]"
            ]
          },
          "metadata": {
            "tags": []
          },
          "execution_count": 29
        }
      ]
    }
  ]
}