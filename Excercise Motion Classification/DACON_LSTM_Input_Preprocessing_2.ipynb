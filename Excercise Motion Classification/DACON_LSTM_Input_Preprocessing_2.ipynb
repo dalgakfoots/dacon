{
  "nbformat": 4,
  "nbformat_minor": 0,
  "metadata": {
    "accelerator": "GPU",
    "colab": {
      "name": "DACON_LSTM_Input_Preprocessing_2",
      "provenance": [],
      "collapsed_sections": []
    },
    "kernelspec": {
      "display_name": "Python 3",
      "name": "python3"
    }
  },
  "cells": [
    {
      "cell_type": "code",
      "metadata": {
        "id": "cJkFI5YSuYVP"
      },
      "source": [
        "import torch\r\n",
        "\r\n",
        "import copy\r\n",
        "import numpy as np\r\n",
        "import pandas as pd\r\n",
        "import seaborn as sns\r\n",
        "from pylab import rcParams\r\n",
        "import matplotlib.pyplot as plt\r\n",
        "from matplotlib import rc\r\n",
        "from sklearn.model_selection import train_test_split\r\n",
        "import sklearn.metrics as metrics\r\n",
        "from torch import nn, optim\r\n",
        "\r\n",
        "import torch.nn.functional as F"
      ],
      "execution_count": null,
      "outputs": []
    },
    {
      "cell_type": "code",
      "metadata": {
        "id": "zk4irPeduqkv"
      },
      "source": [
        "device = torch.device('cuda' if torch.cuda.is_available() else 'cpu')"
      ],
      "execution_count": null,
      "outputs": []
    },
    {
      "cell_type": "code",
      "metadata": {
        "colab": {
          "base_uri": "https://localhost:8080/"
        },
        "id": "0li6QnsXu8FP",
        "outputId": "11b95f04-cf9a-4c8e-a146-e7b34fecb5f7"
      },
      "source": [
        "device"
      ],
      "execution_count": null,
      "outputs": [
        {
          "output_type": "execute_result",
          "data": {
            "text/plain": [
              "device(type='cuda')"
            ]
          },
          "metadata": {
            "tags": []
          },
          "execution_count": 3
        }
      ]
    },
    {
      "cell_type": "code",
      "metadata": {
        "id": "AJmRiUMUzrlM"
      },
      "source": [
        "train = pd.read_csv('/content/drive/MyDrive/DACON/train_features.csv')"
      ],
      "execution_count": null,
      "outputs": []
    },
    {
      "cell_type": "code",
      "metadata": {
        "id": "5IDR_Vxg0kOk"
      },
      "source": [
        "target = pd.read_csv('/content/drive/MyDrive/DACON/train_labels.csv')\r\n",
        "train_labels = target"
      ],
      "execution_count": null,
      "outputs": []
    },
    {
      "cell_type": "code",
      "metadata": {
        "id": "Tvs8Rt99wMC4"
      },
      "source": [
        "test = pd.read_csv('/content/drive/MyDrive/DACON/test_features.csv')\r\n",
        "submission = pd.read_csv('/content/drive/MyDrive/DACON/sample_submission.csv')"
      ],
      "execution_count": null,
      "outputs": []
    },
    {
      "cell_type": "code",
      "metadata": {
        "colab": {
          "base_uri": "https://localhost:8080/",
          "height": 419
        },
        "id": "6Mjb8elXVsqJ",
        "outputId": "bbb8c432-18c8-438e-ea90-669f76b47f6a"
      },
      "source": [
        "train"
      ],
      "execution_count": null,
      "outputs": [
        {
          "output_type": "execute_result",
          "data": {
            "text/html": [
              "<div>\n",
              "<style scoped>\n",
              "    .dataframe tbody tr th:only-of-type {\n",
              "        vertical-align: middle;\n",
              "    }\n",
              "\n",
              "    .dataframe tbody tr th {\n",
              "        vertical-align: top;\n",
              "    }\n",
              "\n",
              "    .dataframe thead th {\n",
              "        text-align: right;\n",
              "    }\n",
              "</style>\n",
              "<table border=\"1\" class=\"dataframe\">\n",
              "  <thead>\n",
              "    <tr style=\"text-align: right;\">\n",
              "      <th></th>\n",
              "      <th>id</th>\n",
              "      <th>time</th>\n",
              "      <th>acc_x</th>\n",
              "      <th>acc_y</th>\n",
              "      <th>acc_z</th>\n",
              "      <th>gy_x</th>\n",
              "      <th>gy_y</th>\n",
              "      <th>gy_z</th>\n",
              "    </tr>\n",
              "  </thead>\n",
              "  <tbody>\n",
              "    <tr>\n",
              "      <th>0</th>\n",
              "      <td>0</td>\n",
              "      <td>0</td>\n",
              "      <td>1.206087</td>\n",
              "      <td>-0.179371</td>\n",
              "      <td>-0.148447</td>\n",
              "      <td>-0.591608</td>\n",
              "      <td>-30.549010</td>\n",
              "      <td>-31.676112</td>\n",
              "    </tr>\n",
              "    <tr>\n",
              "      <th>1</th>\n",
              "      <td>0</td>\n",
              "      <td>1</td>\n",
              "      <td>1.287696</td>\n",
              "      <td>-0.198974</td>\n",
              "      <td>-0.182444</td>\n",
              "      <td>0.303100</td>\n",
              "      <td>-39.139103</td>\n",
              "      <td>-24.927216</td>\n",
              "    </tr>\n",
              "    <tr>\n",
              "      <th>2</th>\n",
              "      <td>0</td>\n",
              "      <td>2</td>\n",
              "      <td>1.304609</td>\n",
              "      <td>-0.195114</td>\n",
              "      <td>-0.253382</td>\n",
              "      <td>-3.617278</td>\n",
              "      <td>-44.122565</td>\n",
              "      <td>-25.019629</td>\n",
              "    </tr>\n",
              "    <tr>\n",
              "      <th>3</th>\n",
              "      <td>0</td>\n",
              "      <td>3</td>\n",
              "      <td>1.293095</td>\n",
              "      <td>-0.230366</td>\n",
              "      <td>-0.215210</td>\n",
              "      <td>2.712986</td>\n",
              "      <td>-53.597843</td>\n",
              "      <td>-27.454013</td>\n",
              "    </tr>\n",
              "    <tr>\n",
              "      <th>4</th>\n",
              "      <td>0</td>\n",
              "      <td>4</td>\n",
              "      <td>1.300887</td>\n",
              "      <td>-0.187757</td>\n",
              "      <td>-0.222523</td>\n",
              "      <td>4.286707</td>\n",
              "      <td>-57.906561</td>\n",
              "      <td>-27.961234</td>\n",
              "    </tr>\n",
              "    <tr>\n",
              "      <th>...</th>\n",
              "      <td>...</td>\n",
              "      <td>...</td>\n",
              "      <td>...</td>\n",
              "      <td>...</td>\n",
              "      <td>...</td>\n",
              "      <td>...</td>\n",
              "      <td>...</td>\n",
              "      <td>...</td>\n",
              "    </tr>\n",
              "    <tr>\n",
              "      <th>1874995</th>\n",
              "      <td>3124</td>\n",
              "      <td>595</td>\n",
              "      <td>-0.712530</td>\n",
              "      <td>-0.658357</td>\n",
              "      <td>0.293707</td>\n",
              "      <td>-29.367857</td>\n",
              "      <td>-104.013664</td>\n",
              "      <td>-76.290437</td>\n",
              "    </tr>\n",
              "    <tr>\n",
              "      <th>1874996</th>\n",
              "      <td>3124</td>\n",
              "      <td>596</td>\n",
              "      <td>-0.683037</td>\n",
              "      <td>-0.658466</td>\n",
              "      <td>0.329223</td>\n",
              "      <td>-30.149089</td>\n",
              "      <td>-101.796809</td>\n",
              "      <td>-76.625087</td>\n",
              "    </tr>\n",
              "    <tr>\n",
              "      <th>1874997</th>\n",
              "      <td>3124</td>\n",
              "      <td>597</td>\n",
              "      <td>-0.664730</td>\n",
              "      <td>-0.666625</td>\n",
              "      <td>0.364114</td>\n",
              "      <td>-27.873095</td>\n",
              "      <td>-98.776072</td>\n",
              "      <td>-79.365125</td>\n",
              "    </tr>\n",
              "    <tr>\n",
              "      <th>1874998</th>\n",
              "      <td>3124</td>\n",
              "      <td>598</td>\n",
              "      <td>-0.630534</td>\n",
              "      <td>-0.682565</td>\n",
              "      <td>0.373696</td>\n",
              "      <td>-23.636550</td>\n",
              "      <td>-99.139495</td>\n",
              "      <td>-80.259478</td>\n",
              "    </tr>\n",
              "    <tr>\n",
              "      <th>1874999</th>\n",
              "      <td>3124</td>\n",
              "      <td>599</td>\n",
              "      <td>-0.578351</td>\n",
              "      <td>-0.700235</td>\n",
              "      <td>0.384390</td>\n",
              "      <td>-17.917626</td>\n",
              "      <td>-100.181873</td>\n",
              "      <td>-80.676229</td>\n",
              "    </tr>\n",
              "  </tbody>\n",
              "</table>\n",
              "<p>1875000 rows × 8 columns</p>\n",
              "</div>"
            ],
            "text/plain": [
              "           id  time     acc_x  ...       gy_x        gy_y       gy_z\n",
              "0           0     0  1.206087  ...  -0.591608  -30.549010 -31.676112\n",
              "1           0     1  1.287696  ...   0.303100  -39.139103 -24.927216\n",
              "2           0     2  1.304609  ...  -3.617278  -44.122565 -25.019629\n",
              "3           0     3  1.293095  ...   2.712986  -53.597843 -27.454013\n",
              "4           0     4  1.300887  ...   4.286707  -57.906561 -27.961234\n",
              "...       ...   ...       ...  ...        ...         ...        ...\n",
              "1874995  3124   595 -0.712530  ... -29.367857 -104.013664 -76.290437\n",
              "1874996  3124   596 -0.683037  ... -30.149089 -101.796809 -76.625087\n",
              "1874997  3124   597 -0.664730  ... -27.873095  -98.776072 -79.365125\n",
              "1874998  3124   598 -0.630534  ... -23.636550  -99.139495 -80.259478\n",
              "1874999  3124   599 -0.578351  ... -17.917626 -100.181873 -80.676229\n",
              "\n",
              "[1875000 rows x 8 columns]"
            ]
          },
          "metadata": {
            "tags": []
          },
          "execution_count": 7
        }
      ]
    },
    {
      "cell_type": "code",
      "metadata": {
        "id": "NOuVMrxtvZjw"
      },
      "source": [
        "train_mean = train.copy()\r\n",
        "train_max = train.copy()\r\n",
        "train_min = train.copy()"
      ],
      "execution_count": null,
      "outputs": []
    },
    {
      "cell_type": "code",
      "metadata": {
        "id": "deqPaSdykPGV"
      },
      "source": [
        "# train_ 데이터프레임에 group 컬럼을 추가한다.\r\n",
        "\r\n",
        "train_mean['group'] = 1\r\n",
        "train_max['group'] = 1\r\n",
        "train_min['group'] = 1"
      ],
      "execution_count": null,
      "outputs": []
    },
    {
      "cell_type": "code",
      "metadata": {
        "id": "eH7hyWWCmnem"
      },
      "source": [
        "for i in range(59 , -1 , -1):\r\n",
        "  train_mean.loc[(train_.time < (i+1)*10), 'group'] = i\r\n",
        "  train_max.loc[(train_.time < (i+1)*10), 'group'] = i\r\n",
        "  train_min.loc[(train_.time < (i+1)*10), 'group'] = i\r\n",
        "# 0 ~ 9\r\n",
        "# 10 ~ 19\r\n",
        "# 20 ~ 29\r\n",
        "# 30 ~ 39\r\n",
        "# ...\r\n",
        "# 590 ~ 599"
      ],
      "execution_count": null,
      "outputs": []
    },
    {
      "cell_type": "code",
      "metadata": {
        "id": "cCsFI3bRoGMc"
      },
      "source": [
        "group_train_mean = train_mean.groupby(['id', 'group'])\r\n",
        "group_train_max = train_max.groupby(['id', 'group'])\r\n",
        "group_train_min = train_min.groupby(['id' , 'group'])"
      ],
      "execution_count": null,
      "outputs": []
    },
    {
      "cell_type": "code",
      "metadata": {
        "id": "JTf7mEFs36dK"
      },
      "source": [
        "df_mean =  pd.DataFrame(group_train_mean.mean())\r\n",
        "df_max = pd.DataFrame(group_train_max.max())\r\n",
        "df_min = pd.DataFrame(group_train_min.min())"
      ],
      "execution_count": null,
      "outputs": []
    },
    {
      "cell_type": "code",
      "metadata": {
        "id": "Fh5fBDOQIH91"
      },
      "source": [
        "df_1 = pd.merge(left = df_mean , right = df_max , on=['id' , 'group'])"
      ],
      "execution_count": null,
      "outputs": []
    },
    {
      "cell_type": "code",
      "metadata": {
        "id": "eKgZ4O63I1Zn"
      },
      "source": [
        "df_2 = pd.merge(left = df_1 , right = df_min , on =['id', 'group'])"
      ],
      "execution_count": null,
      "outputs": []
    },
    {
      "cell_type": "code",
      "metadata": {
        "id": "8xf4bk8FIwC2"
      },
      "source": [
        "df_finish = df_2.drop(['time_x' , 'time_y' , 'time'], axis = 1)"
      ],
      "execution_count": null,
      "outputs": []
    },
    {
      "cell_type": "code",
      "metadata": {
        "id": "315FVAydHa-M"
      },
      "source": [
        "def preprocess(data):\r\n",
        "  train_mean_ = data.copy()\r\n",
        "  train_max_ = data.copy()\r\n",
        "  train_min_ = data.copy()\r\n",
        "\r\n",
        "  train_mean_['group'] = 1\r\n",
        "  train_max_['group'] = 1\r\n",
        "  train_min_['group'] = 1\r\n",
        "\r\n",
        "  for i in range(59 , -1 , -1):\r\n",
        "    train_mean_.loc[(train_.time < (i+1)*10), 'group'] = i\r\n",
        "    train_max_.loc[(train_.time < (i+1)*10), 'group'] = i\r\n",
        "    train_min_.loc[(train_.time < (i+1)*10), 'group'] = i\r\n",
        "  \r\n",
        "  group_train_mean = train_mean_.groupby(['id', 'group'])\r\n",
        "  group_train_max = train_max_.groupby(['id', 'group'])\r\n",
        "  group_train_min = train_min_.groupby(['id' , 'group'])\r\n",
        "\r\n",
        "  mean_data =  pd.DataFrame(group_train_mean.mean())\r\n",
        "  max_data = pd.DataFrame(group_train_max.max())\r\n",
        "  min_data = pd.DataFrame(group_train_min.min())\r\n",
        "\r\n",
        "  df_1 = pd.merge(left = mean_data , right = max_data , on=['id' , 'group'])\r\n",
        "  df_2 = pd.merge(left = df_1 , right = min_data , on =['id', 'group'])\r\n",
        "\r\n",
        "  df_finish_preprocess = df_2.drop(['time_x' , 'time_y' , 'time'], axis = 1)\r\n",
        "\r\n",
        "  return df_finish_preprocess"
      ],
      "execution_count": null,
      "outputs": []
    },
    {
      "cell_type": "code",
      "metadata": {
        "colab": {
          "base_uri": "https://localhost:8080/"
        },
        "id": "WVacZGtQ6dNG",
        "outputId": "e46dbb14-3bff-4cc4-bc8a-1f876e9466d3"
      },
      "source": [
        "df_finish.shape"
      ],
      "execution_count": null,
      "outputs": [
        {
          "output_type": "execute_result",
          "data": {
            "text/plain": [
              "(187500, 18)"
            ]
          },
          "metadata": {
            "tags": []
          },
          "execution_count": 33
        }
      ]
    },
    {
      "cell_type": "code",
      "metadata": {
        "id": "TnJu25pMw52r"
      },
      "source": [
        "X = torch.FloatTensor(df_finish.values).view(-1, 60, 18)"
      ],
      "execution_count": null,
      "outputs": []
    },
    {
      "cell_type": "code",
      "metadata": {
        "colab": {
          "base_uri": "https://localhost:8080/"
        },
        "id": "cD3ialF_6vwu",
        "outputId": "8d3c4437-f28c-4f3f-e177-872c4629d853"
      },
      "source": [
        "X.shape"
      ],
      "execution_count": null,
      "outputs": [
        {
          "output_type": "execute_result",
          "data": {
            "text/plain": [
              "torch.Size([3125, 60, 18])"
            ]
          },
          "metadata": {
            "tags": []
          },
          "execution_count": 36
        }
      ]
    },
    {
      "cell_type": "code",
      "metadata": {
        "colab": {
          "base_uri": "https://localhost:8080/",
          "height": 419
        },
        "id": "vqB16Zfr66mV",
        "outputId": "26a74315-ab2d-484a-fd10-317525bd5b52"
      },
      "source": [
        "train_labels"
      ],
      "execution_count": null,
      "outputs": [
        {
          "output_type": "execute_result",
          "data": {
            "text/html": [
              "<div>\n",
              "<style scoped>\n",
              "    .dataframe tbody tr th:only-of-type {\n",
              "        vertical-align: middle;\n",
              "    }\n",
              "\n",
              "    .dataframe tbody tr th {\n",
              "        vertical-align: top;\n",
              "    }\n",
              "\n",
              "    .dataframe thead th {\n",
              "        text-align: right;\n",
              "    }\n",
              "</style>\n",
              "<table border=\"1\" class=\"dataframe\">\n",
              "  <thead>\n",
              "    <tr style=\"text-align: right;\">\n",
              "      <th></th>\n",
              "      <th>id</th>\n",
              "      <th>label</th>\n",
              "      <th>label_desc</th>\n",
              "    </tr>\n",
              "  </thead>\n",
              "  <tbody>\n",
              "    <tr>\n",
              "      <th>0</th>\n",
              "      <td>0</td>\n",
              "      <td>37</td>\n",
              "      <td>Shoulder Press (dumbbell)</td>\n",
              "    </tr>\n",
              "    <tr>\n",
              "      <th>1</th>\n",
              "      <td>1</td>\n",
              "      <td>26</td>\n",
              "      <td>Non-Exercise</td>\n",
              "    </tr>\n",
              "    <tr>\n",
              "      <th>2</th>\n",
              "      <td>2</td>\n",
              "      <td>3</td>\n",
              "      <td>Biceps Curl (band)</td>\n",
              "    </tr>\n",
              "    <tr>\n",
              "      <th>3</th>\n",
              "      <td>3</td>\n",
              "      <td>26</td>\n",
              "      <td>Non-Exercise</td>\n",
              "    </tr>\n",
              "    <tr>\n",
              "      <th>4</th>\n",
              "      <td>4</td>\n",
              "      <td>26</td>\n",
              "      <td>Non-Exercise</td>\n",
              "    </tr>\n",
              "    <tr>\n",
              "      <th>...</th>\n",
              "      <td>...</td>\n",
              "      <td>...</td>\n",
              "      <td>...</td>\n",
              "    </tr>\n",
              "    <tr>\n",
              "      <th>3120</th>\n",
              "      <td>3120</td>\n",
              "      <td>26</td>\n",
              "      <td>Non-Exercise</td>\n",
              "    </tr>\n",
              "    <tr>\n",
              "      <th>3121</th>\n",
              "      <td>3121</td>\n",
              "      <td>26</td>\n",
              "      <td>Non-Exercise</td>\n",
              "    </tr>\n",
              "    <tr>\n",
              "      <th>3122</th>\n",
              "      <td>3122</td>\n",
              "      <td>15</td>\n",
              "      <td>Dynamic Stretch (at your own pace)</td>\n",
              "    </tr>\n",
              "    <tr>\n",
              "      <th>3123</th>\n",
              "      <td>3123</td>\n",
              "      <td>26</td>\n",
              "      <td>Non-Exercise</td>\n",
              "    </tr>\n",
              "    <tr>\n",
              "      <th>3124</th>\n",
              "      <td>3124</td>\n",
              "      <td>2</td>\n",
              "      <td>Bicep Curl</td>\n",
              "    </tr>\n",
              "  </tbody>\n",
              "</table>\n",
              "<p>3125 rows × 3 columns</p>\n",
              "</div>"
            ],
            "text/plain": [
              "        id  label                          label_desc\n",
              "0        0     37           Shoulder Press (dumbbell)\n",
              "1        1     26                        Non-Exercise\n",
              "2        2      3                  Biceps Curl (band)\n",
              "3        3     26                        Non-Exercise\n",
              "4        4     26                        Non-Exercise\n",
              "...    ...    ...                                 ...\n",
              "3120  3120     26                        Non-Exercise\n",
              "3121  3121     26                        Non-Exercise\n",
              "3122  3122     15  Dynamic Stretch (at your own pace)\n",
              "3123  3123     26                        Non-Exercise\n",
              "3124  3124      2                          Bicep Curl\n",
              "\n",
              "[3125 rows x 3 columns]"
            ]
          },
          "metadata": {
            "tags": []
          },
          "execution_count": 37
        }
      ]
    },
    {
      "cell_type": "code",
      "metadata": {
        "id": "kLZD8hFFxFMw"
      },
      "source": [
        "y = torch.FloatTensor(train_labels['label'].values)"
      ],
      "execution_count": null,
      "outputs": []
    },
    {
      "cell_type": "code",
      "metadata": {
        "colab": {
          "base_uri": "https://localhost:8080/"
        },
        "id": "pZkMnQQb2v9D",
        "outputId": "3e21594a-2e74-4a68-bf07-b55ee60759c5"
      },
      "source": [
        "y.shape"
      ],
      "execution_count": null,
      "outputs": [
        {
          "output_type": "execute_result",
          "data": {
            "text/plain": [
              "torch.Size([3125])"
            ]
          },
          "metadata": {
            "tags": []
          },
          "execution_count": 39
        }
      ]
    },
    {
      "cell_type": "code",
      "metadata": {
        "id": "EnYTH-GFxbhu"
      },
      "source": [
        "def to_categorical(y, num_classes):\r\n",
        "    \"\"\" 1-hot encodes a tensor \"\"\"\r\n",
        "    return np.eye(num_classes, dtype='uint8')[y]"
      ],
      "execution_count": null,
      "outputs": []
    },
    {
      "cell_type": "code",
      "metadata": {
        "id": "lh65JLBcxdO7"
      },
      "source": [
        "y = y.view(-1, 1)"
      ],
      "execution_count": null,
      "outputs": []
    },
    {
      "cell_type": "code",
      "metadata": {
        "colab": {
          "base_uri": "https://localhost:8080/"
        },
        "id": "30pEQ3L8z77e",
        "outputId": "caa70df0-c63c-41b5-c57a-484ecdeb9d0e"
      },
      "source": [
        "y.shape"
      ],
      "execution_count": null,
      "outputs": [
        {
          "output_type": "execute_result",
          "data": {
            "text/plain": [
              "torch.Size([3125, 1])"
            ]
          },
          "metadata": {
            "tags": []
          },
          "execution_count": 42
        }
      ]
    },
    {
      "cell_type": "code",
      "metadata": {
        "id": "JLrrfUz30AAH"
      },
      "source": [
        "class Net(torch.nn.Module):\r\n",
        "  def __init__(self , input_size , hidden_size):\r\n",
        "    super(Net, self).__init__()\r\n",
        "    self.lstm = torch.nn.LSTM(input_size , hidden_size , batch_first= True)\r\n",
        "    self.fc1 = torch.nn.Linear(hidden_size , 128 , bias = True)\r\n",
        "    self.relu = torch.nn.ReLU()\r\n",
        "    self.fc2 = torch.nn.Linear(128,61 ,bias = True)\r\n",
        "\r\n",
        "  def forward(self, x):\r\n",
        "    x, _status = self.lstm(x)\r\n",
        "    x = self.fc1(x)\r\n",
        "    x = self.relu(x)\r\n",
        "    x = self.fc2(x)\r\n",
        "    return x"
      ],
      "execution_count": null,
      "outputs": []
    },
    {
      "cell_type": "code",
      "metadata": {
        "id": "RqAW-Zbq7dwO"
      },
      "source": [
        "output = Net(18,61)"
      ],
      "execution_count": null,
      "outputs": []
    },
    {
      "cell_type": "code",
      "metadata": {
        "id": "nPhUedFK5vt9"
      },
      "source": [
        "criterion = torch.nn.CrossEntropyLoss()\r\n",
        "optimizer = optim.Adam(output.parameters(), 1e-3)"
      ],
      "execution_count": null,
      "outputs": []
    },
    {
      "cell_type": "code",
      "metadata": {
        "id": "3etvUnvhTA1x"
      },
      "source": [
        "y = y.squeeze(1).long()"
      ],
      "execution_count": null,
      "outputs": []
    },
    {
      "cell_type": "code",
      "metadata": {
        "id": "Am35FPEt695X"
      },
      "source": [
        "for i in range(400):\r\n",
        "  optimizer.zero_grad()\r\n",
        "  outputs = output(X)\r\n",
        "  loss = criterion(outputs[:,-1,:] , y)\r\n",
        "  loss.backward()\r\n",
        "  optimizer.step()\r\n",
        "  \r\n",
        "  train_acc = torch.sum(torch.argmax(outputs[:,-1,:], axis = 1) == y)\r\n",
        "  \r\n",
        "  print('epoch : ',i, \" loss : \", loss.item())\r\n",
        "  print('acc : ', (train_acc / outputs.shape[0]).numpy())"
      ],
      "execution_count": null,
      "outputs": []
    },
    {
      "cell_type": "code",
      "metadata": {
        "id": "-g_0VLkMM57B"
      },
      "source": [
        "df_test = preprocess(test)"
      ],
      "execution_count": null,
      "outputs": []
    },
    {
      "cell_type": "code",
      "metadata": {
        "colab": {
          "base_uri": "https://localhost:8080/"
        },
        "id": "bCtZfONlRT8-",
        "outputId": "497b878f-6103-42fd-ef44-08755a5171cc"
      },
      "source": [
        "df_test.shape"
      ],
      "execution_count": null,
      "outputs": [
        {
          "output_type": "execute_result",
          "data": {
            "text/plain": [
              "(46920, 18)"
            ]
          },
          "metadata": {
            "tags": []
          },
          "execution_count": 118
        }
      ]
    },
    {
      "cell_type": "code",
      "metadata": {
        "id": "dNIqs1MCN3V2"
      },
      "source": [
        "test_tensor = torch.FloatTensor(df_test.values)"
      ],
      "execution_count": null,
      "outputs": []
    },
    {
      "cell_type": "code",
      "metadata": {
        "id": "bhOtcTQqOIHp"
      },
      "source": [
        "test_tensor = test_tensor.view(-1,60,18)"
      ],
      "execution_count": null,
      "outputs": []
    },
    {
      "cell_type": "code",
      "metadata": {
        "colab": {
          "base_uri": "https://localhost:8080/"
        },
        "id": "FuwJXxkiQNuF",
        "outputId": "cc8c2e33-b2a8-46e5-e9cd-590fed5d1f13"
      },
      "source": [
        "print(test_tensor.shape)"
      ],
      "execution_count": null,
      "outputs": [
        {
          "output_type": "stream",
          "text": [
            "torch.Size([782, 60, 18])\n"
          ],
          "name": "stdout"
        }
      ]
    },
    {
      "cell_type": "code",
      "metadata": {
        "id": "UaWgIxwWB9Bs"
      },
      "source": [
        "with torch.no_grad():\r\n",
        "  #X_test = torch.FloatTensor(test.iloc[:,2:].values).view(-1, 600, 6)\r\n",
        "  pred_test = output(test_tensor)"
      ],
      "execution_count": null,
      "outputs": []
    },
    {
      "cell_type": "code",
      "metadata": {
        "id": "R3FDjH78wPIT",
        "colab": {
          "base_uri": "https://localhost:8080/"
        },
        "outputId": "bf3d3480-0685-4a62-fb8d-4afdb9652d6c"
      },
      "source": [
        "pred_test.shape"
      ],
      "execution_count": null,
      "outputs": [
        {
          "output_type": "execute_result",
          "data": {
            "text/plain": [
              "torch.Size([782, 60, 61])"
            ]
          },
          "metadata": {
            "tags": []
          },
          "execution_count": 123
        }
      ]
    },
    {
      "cell_type": "code",
      "metadata": {
        "id": "lgrBA7f6wSAr"
      },
      "source": [
        "x_numpy = pred_test[:, -1, :]"
      ],
      "execution_count": null,
      "outputs": []
    },
    {
      "cell_type": "code",
      "metadata": {
        "colab": {
          "base_uri": "https://localhost:8080/"
        },
        "id": "Vn8HVLS0OQnx",
        "outputId": "44cd07b6-5f70-4e1f-c0e1-8126ea130afa"
      },
      "source": [
        "print(x_numpy.shape)"
      ],
      "execution_count": null,
      "outputs": [
        {
          "output_type": "stream",
          "text": [
            "torch.Size([782, 61])\n"
          ],
          "name": "stdout"
        }
      ]
    },
    {
      "cell_type": "code",
      "metadata": {
        "id": "Jj7mePEswXKu"
      },
      "source": [
        "#x_numpy = np.argmax(x_numpy, axis = 1)"
      ],
      "execution_count": null,
      "outputs": []
    },
    {
      "cell_type": "code",
      "metadata": {
        "colab": {
          "base_uri": "https://localhost:8080/"
        },
        "id": "WbAe2jaw8eEo",
        "outputId": "3165fad7-79f0-432b-a15c-96774298cc2a"
      },
      "source": [
        "#x_numpy"
      ],
      "execution_count": null,
      "outputs": [
        {
          "output_type": "execute_result",
          "data": {
            "text/plain": [
              "array([37, 26,  3, ..., 15, 26, 55])"
            ]
          },
          "metadata": {
            "tags": []
          },
          "execution_count": 53
        }
      ]
    },
    {
      "cell_type": "code",
      "metadata": {
        "colab": {
          "base_uri": "https://localhost:8080/"
        },
        "id": "YYd-rf3jwkSt",
        "outputId": "47b7ebf0-7dcf-4b6e-baba-0f2457e9d9c9"
      },
      "source": [
        "#y_numpy = y.numpy()\r\n",
        "#y_numpy"
      ],
      "execution_count": null,
      "outputs": [
        {
          "output_type": "execute_result",
          "data": {
            "text/plain": [
              "array([37, 26,  3, ..., 15, 26,  2])"
            ]
          },
          "metadata": {
            "tags": []
          },
          "execution_count": 54
        }
      ]
    },
    {
      "cell_type": "code",
      "metadata": {
        "id": "C7W9aPFiwoDB"
      },
      "source": [
        "import sklearn.metrics as metrics"
      ],
      "execution_count": null,
      "outputs": []
    },
    {
      "cell_type": "code",
      "metadata": {
        "colab": {
          "base_uri": "https://localhost:8080/"
        },
        "id": "iopI-qz9w6VQ",
        "outputId": "a298568e-eff5-43c5-ab7a-37f4aa31f0d0"
      },
      "source": [
        "acc = metrics.accuracy_score(x_numpy , y_numpy)\r\n",
        "print('acc : ', acc)"
      ],
      "execution_count": null,
      "outputs": [
        {
          "output_type": "stream",
          "text": [
            "acc :  0.97664\n"
          ],
          "name": "stdout"
        }
      ]
    },
    {
      "cell_type": "code",
      "metadata": {
        "id": "iUSaS5Iw8vrL"
      },
      "source": [
        "test_df = pd.DataFrame(x_numpy.numpy())"
      ],
      "execution_count": null,
      "outputs": []
    },
    {
      "cell_type": "code",
      "metadata": {
        "id": "oMNStB5s87bQ"
      },
      "source": [
        "test_df.to_excel('/content/drive/MyDrive/DACON/excel_test.xlsx의 사본.xlsx')"
      ],
      "execution_count": null,
      "outputs": []
    },
    {
      "cell_type": "code",
      "metadata": {
        "id": "-Gcl3BXs9Gvl"
      },
      "source": [
        "torch.save(output.state_dict(), '/content/drive/MyDrive/DACON/data/EMS_LSTM_epoch_400_mean_min_max')"
      ],
      "execution_count": null,
      "outputs": []
    },
    {
      "cell_type": "code",
      "metadata": {
        "colab": {
          "base_uri": "https://localhost:8080/"
        },
        "id": "AtvhqYcVcG-z",
        "outputId": "979fb819-5b05-41ab-d567-b53c5c0d964a"
      },
      "source": [
        "X.shape"
      ],
      "execution_count": null,
      "outputs": [
        {
          "output_type": "execute_result",
          "data": {
            "text/plain": [
              "torch.Size([3125, 60, 18])"
            ]
          },
          "metadata": {
            "tags": []
          },
          "execution_count": 131
        }
      ]
    },
    {
      "cell_type": "code",
      "metadata": {
        "id": "WP-STPKBcOC2"
      },
      "source": [
        "with torch.no_grad():\r\n",
        "  #X_test = torch.FloatTensor(test.iloc[:,2:].values).view(-1, 600, 6)\r\n",
        "  pred_test = output(X)"
      ],
      "execution_count": null,
      "outputs": []
    },
    {
      "cell_type": "code",
      "metadata": {
        "id": "Pe49KIMBcSOP"
      },
      "source": [
        "argmax_train = torch.argmax(pred_test[:,-1,:], axis= 1)"
      ],
      "execution_count": null,
      "outputs": []
    },
    {
      "cell_type": "code",
      "metadata": {
        "id": "MggKuG6ycTIX"
      },
      "source": [
        "x_numpy = argmax_train.numpy()"
      ],
      "execution_count": null,
      "outputs": []
    },
    {
      "cell_type": "code",
      "metadata": {
        "colab": {
          "base_uri": "https://localhost:8080/"
        },
        "id": "MWToYocTckc4",
        "outputId": "b06d0b81-0815-49a5-e56d-5016e8c3657f"
      },
      "source": [
        "x_numpy"
      ],
      "execution_count": null,
      "outputs": [
        {
          "output_type": "execute_result",
          "data": {
            "text/plain": [
              "array([37, 26,  3, ..., 15, 26, 55])"
            ]
          },
          "metadata": {
            "tags": []
          },
          "execution_count": 140
        }
      ]
    },
    {
      "cell_type": "code",
      "metadata": {
        "colab": {
          "base_uri": "https://localhost:8080/"
        },
        "id": "Wc6BA7JzccO0",
        "outputId": "bceb242c-b7b6-4628-b56d-78778a6a4c74"
      },
      "source": [
        "y_numpy"
      ],
      "execution_count": null,
      "outputs": [
        {
          "output_type": "execute_result",
          "data": {
            "text/plain": [
              "array([37, 26,  3, ..., 15, 26,  2])"
            ]
          },
          "metadata": {
            "tags": []
          },
          "execution_count": 139
        }
      ]
    },
    {
      "cell_type": "code",
      "metadata": {
        "colab": {
          "base_uri": "https://localhost:8080/"
        },
        "id": "AKzbR1KZcjaX",
        "outputId": "91d4446c-0b2f-4f68-d32d-ec8afd6841b7"
      },
      "source": [
        "# T 에서 0인것만 모은다. (인덱스 반환)\r\n",
        "zero_idx = np.where(x_numpy == 0)\r\n",
        "#(array([ 118,  141,  181, 1515, 1628, 2249, 2324, 2517, 2519, 2586, 3101]),)\r\n",
        "\r\n",
        "# T 에서 0인것만 모은다.\r\n",
        "\r\n",
        "zero_t = x_numpy[np.where(x_numpy == 0)]\r\n",
        "zero_y = y_numpy[zero_idx]\r\n",
        "print(zero_idx)\r\n",
        "print('zero_t : ',zero_t)\r\n",
        "print('zero_y : ',zero_y)\r\n",
        "# print('acc when label is  ',i, \": \", acc)"
      ],
      "execution_count": null,
      "outputs": [
        {
          "output_type": "stream",
          "text": [
            "(array([ 118,  141,  181, 1515, 1628, 2249, 2324, 2517, 2519, 2586, 3101]),)\n",
            "zero_t :  [0 0 0 0 0 0 0 0 0 0 0]\n",
            "zero_y :  [0 0 0 0 0 0 0 0 0 0 0]\n"
          ],
          "name": "stdout"
        }
      ]
    },
    {
      "cell_type": "code",
      "metadata": {
        "id": "x818b8Q5fQMS"
      },
      "source": [
        "import sklearn.metrics as metric"
      ],
      "execution_count": null,
      "outputs": []
    },
    {
      "cell_type": "code",
      "metadata": {
        "colab": {
          "base_uri": "https://localhost:8080/"
        },
        "id": "y2rD2BRfecjR",
        "outputId": "69d15f4f-5c6c-468d-f0d7-cee4cf82f234"
      },
      "source": [
        "for i in range(60):\r\n",
        "\r\n",
        "  idx = np.where(x_numpy == i)\r\n",
        "\r\n",
        "  t = x_numpy[np.where(x_numpy == i)]\r\n",
        "  y = y_numpy[idx]\r\n",
        "  acc = metric.accuracy_score(y, t)\r\n",
        "  print('acc when label is  ',i, \": \", acc * 100)"
      ],
      "execution_count": null,
      "outputs": [
        {
          "output_type": "stream",
          "text": [
            "acc when label is   0 :  100.0\n",
            "acc when label is   1 :  100.0\n",
            "acc when label is   2 :  100.0\n",
            "acc when label is   3 :  100.0\n",
            "acc when label is   4 :  100.0\n",
            "acc when label is   5 :  100.0\n",
            "acc when label is   6 :  100.0\n",
            "acc when label is   7 :  100.0\n",
            "acc when label is   8 :  98.96907216494846\n",
            "acc when label is   9 :  89.74358974358975\n",
            "acc when label is   10 :  85.71428571428571\n",
            "acc when label is   11 :  95.23809523809523\n",
            "acc when label is   12 :  91.66666666666666\n",
            "acc when label is   13 :  100.0\n",
            "acc when label is   14 :  100.0\n",
            "acc when label is   15 :  100.0\n",
            "acc when label is   16 :  100.0\n",
            "acc when label is   17 :  100.0\n",
            "acc when label is   18 :  100.0\n",
            "acc when label is   19 :  100.0\n",
            "acc when label is   20 :  100.0\n",
            "acc when label is   21 :  100.0\n",
            "acc when label is   22 :  100.0\n",
            "acc when label is   23 :  100.0\n",
            "acc when label is   24 :  91.42857142857143\n",
            "acc when label is   25 :  100.0\n",
            "acc when label is   26 :  97.80503550677857\n",
            "acc when label is   27 :  97.14285714285714\n",
            "acc when label is   28 :  98.18181818181819\n",
            "acc when label is   29 :  95.23809523809523\n",
            "acc when label is   30 :  96.96969696969697\n",
            "acc when label is   31 :  94.73684210526315\n",
            "acc when label is   32 :  93.75\n",
            "acc when label is   33 :  95.0\n",
            "acc when label is   34 :  100.0\n",
            "acc when label is   35 :  100.0\n",
            "acc when label is   36 :  100.0\n",
            "acc when label is   37 :  100.0\n",
            "acc when label is   38 :  100.0\n",
            "acc when label is   39 :  100.0\n",
            "acc when label is   40 :  100.0\n",
            "acc when label is   41 :  100.0\n",
            "acc when label is   42 :  100.0\n",
            "acc when label is   43 :  97.22222222222221\n",
            "acc when label is   44 :  100.0\n",
            "acc when label is   45 :  100.0\n",
            "acc when label is   46 :  100.0\n",
            "acc when label is   47 :  100.0\n",
            "acc when label is   48 :  100.0\n",
            "acc when label is   49 :  100.0\n",
            "acc when label is   50 :  100.0\n",
            "acc when label is   51 :  81.48148148148148\n",
            "acc when label is   52 :  75.0\n",
            "acc when label is   53 :  100.0\n",
            "acc when label is   54 :  100.0\n",
            "acc when label is   55 :  94.73684210526315\n",
            "acc when label is   56 :  100.0\n",
            "acc when label is   57 :  100.0\n",
            "acc when label is   58 :  85.71428571428571\n",
            "acc when label is   59 :  100.0\n"
          ],
          "name": "stdout"
        }
      ]
    },
    {
      "cell_type": "code",
      "metadata": {
        "colab": {
          "base_uri": "https://localhost:8080/"
        },
        "id": "vZqJawLFgaFy",
        "outputId": "28352bc9-8ccb-459a-e122-b6f3f449b266"
      },
      "source": [
        "arg = [9, 10 , 51, 52, 58]\r\n",
        "for i,u in enumerate (arg):\r\n",
        "  # T 에서 0인것만 모은다. (인덱스 반환)\r\n",
        "  label_idx = u\r\n",
        "  zero_idx = np.where(x_numpy == label_idx)\r\n",
        "  #(array([ 118,  141,  181, 1515, 1628, 2249, 2324, 2517, 2519, 2586, 3101]),)\r\n",
        "\r\n",
        "  # T 에서 0인것만 모은다.\r\n",
        "\r\n",
        "  zero_t = x_numpy[np.where(x_numpy == label_idx)]\r\n",
        "  zero_y = y_numpy[zero_idx]\r\n",
        "  print('when i is :', u)\r\n",
        "  print('zero_t : ',zero_t)\r\n",
        "  print('zero_y : ',zero_y)\r\n",
        "  print('=============================================================================')\r\n",
        "  # print('acc when label is  ',i, \": \", acc)"
      ],
      "execution_count": null,
      "outputs": [
        {
          "output_type": "stream",
          "text": [
            "when i is : 9\n",
            "zero_t :  [9 9 9 9 9 9 9 9 9 9 9 9 9 9 9 9 9 9 9 9 9 9 9 9 9 9 9 9 9 9 9 9 9 9 9 9 9\n",
            " 9 9]\n",
            "zero_y :  [ 9  9  9  9  9  9  9  9  9  9  9 24  9  9  9  9  9  9  9 30  9  9  9  9\n",
            "  9  9  9  9  9  9  9 31  9  9  9  9 58  9  9]\n",
            "=============================================================================\n",
            "when i is : 10\n",
            "zero_t :  [10 10 10 10 10 10 10 10 10 10 10 10 10 10 10 10 10 10 10 10 10]\n",
            "zero_y :  [30 10 10 10 10 10 10 10 10 10 10 10 10 14 33 10 10 10 10 10 10]\n",
            "=============================================================================\n",
            "when i is : 51\n",
            "zero_t :  [51 51 51 51 51 51 51 51 51 51 51 51 51 51 51 51 51 51 51 51 51 51 51 51\n",
            " 51 51 51]\n",
            "zero_y :  [51 51 51 52 51 51 15 51 51 51 51 51 11 51 51 51 51 51 51 51 11 51 11 51\n",
            " 51 51 51]\n",
            "=============================================================================\n",
            "when i is : 52\n",
            "zero_t :  [52 52 52 52 52 52 52 52 52 52 52 52]\n",
            "zero_y :  [52 52 28 52 52 52 52 51 52 12 52 52]\n",
            "=============================================================================\n",
            "when i is : 58\n",
            "zero_t :  [58 58 58 58 58 58 58 58 58 58 58 58 58 58 58 58 58 58 58 58 58]\n",
            "zero_y :  [58 58 58 24 58 58 58 24 58 58 58 58 58 58 58 31 58 58 58 58 58]\n",
            "=============================================================================\n"
          ],
          "name": "stdout"
        }
      ]
    },
    {
      "cell_type": "code",
      "metadata": {
        "colab": {
          "base_uri": "https://localhost:8080/",
          "height": 470
        },
        "id": "fbkueSvhjt6G",
        "outputId": "70921bb1-b6c3-4b0e-dccf-bfe341ddea83"
      },
      "source": [
        "df_test"
      ],
      "execution_count": null,
      "outputs": [
        {
          "output_type": "execute_result",
          "data": {
            "text/html": [
              "<div>\n",
              "<style scoped>\n",
              "    .dataframe tbody tr th:only-of-type {\n",
              "        vertical-align: middle;\n",
              "    }\n",
              "\n",
              "    .dataframe tbody tr th {\n",
              "        vertical-align: top;\n",
              "    }\n",
              "\n",
              "    .dataframe thead th {\n",
              "        text-align: right;\n",
              "    }\n",
              "</style>\n",
              "<table border=\"1\" class=\"dataframe\">\n",
              "  <thead>\n",
              "    <tr style=\"text-align: right;\">\n",
              "      <th></th>\n",
              "      <th></th>\n",
              "      <th>acc_x_x</th>\n",
              "      <th>acc_y_x</th>\n",
              "      <th>acc_z_x</th>\n",
              "      <th>gy_x_x</th>\n",
              "      <th>gy_y_x</th>\n",
              "      <th>gy_z_x</th>\n",
              "      <th>acc_x_y</th>\n",
              "      <th>acc_y_y</th>\n",
              "      <th>acc_z_y</th>\n",
              "      <th>gy_x_y</th>\n",
              "      <th>gy_y_y</th>\n",
              "      <th>gy_z_y</th>\n",
              "      <th>acc_x</th>\n",
              "      <th>acc_y</th>\n",
              "      <th>acc_z</th>\n",
              "      <th>gy_x</th>\n",
              "      <th>gy_y</th>\n",
              "      <th>gy_z</th>\n",
              "    </tr>\n",
              "    <tr>\n",
              "      <th>id</th>\n",
              "      <th>group</th>\n",
              "      <th></th>\n",
              "      <th></th>\n",
              "      <th></th>\n",
              "      <th></th>\n",
              "      <th></th>\n",
              "      <th></th>\n",
              "      <th></th>\n",
              "      <th></th>\n",
              "      <th></th>\n",
              "      <th></th>\n",
              "      <th></th>\n",
              "      <th></th>\n",
              "      <th></th>\n",
              "      <th></th>\n",
              "      <th></th>\n",
              "      <th></th>\n",
              "      <th></th>\n",
              "      <th></th>\n",
              "    </tr>\n",
              "  </thead>\n",
              "  <tbody>\n",
              "    <tr>\n",
              "      <th rowspan=\"5\" valign=\"top\">3125</th>\n",
              "      <th>0</th>\n",
              "      <td>-0.442843</td>\n",
              "      <td>-0.053869</td>\n",
              "      <td>-0.263157</td>\n",
              "      <td>12.458695</td>\n",
              "      <td>65.955346</td>\n",
              "      <td>8.563263</td>\n",
              "      <td>-0.275446</td>\n",
              "      <td>0.057259</td>\n",
              "      <td>0.151487</td>\n",
              "      <td>56.953059</td>\n",
              "      <td>96.185341</td>\n",
              "      <td>16.278458</td>\n",
              "      <td>-0.628100</td>\n",
              "      <td>-0.239870</td>\n",
              "      <td>-0.445079</td>\n",
              "      <td>-23.759140</td>\n",
              "      <td>18.748804</td>\n",
              "      <td>-3.605706</td>\n",
              "    </tr>\n",
              "    <tr>\n",
              "      <th>1</th>\n",
              "      <td>-0.955634</td>\n",
              "      <td>-0.008549</td>\n",
              "      <td>-0.344066</td>\n",
              "      <td>-13.251934</td>\n",
              "      <td>-9.480221</td>\n",
              "      <td>5.175902</td>\n",
              "      <td>-0.717086</td>\n",
              "      <td>0.070931</td>\n",
              "      <td>-0.257238</td>\n",
              "      <td>-7.717429</td>\n",
              "      <td>6.698115</td>\n",
              "      <td>11.693182</td>\n",
              "      <td>-1.122112</td>\n",
              "      <td>-0.094599</td>\n",
              "      <td>-0.390737</td>\n",
              "      <td>-23.466845</td>\n",
              "      <td>-19.816078</td>\n",
              "      <td>-1.483997</td>\n",
              "    </tr>\n",
              "    <tr>\n",
              "      <th>2</th>\n",
              "      <td>-0.831829</td>\n",
              "      <td>0.016192</td>\n",
              "      <td>-0.328560</td>\n",
              "      <td>-13.480829</td>\n",
              "      <td>-25.400086</td>\n",
              "      <td>-0.943381</td>\n",
              "      <td>-0.539302</td>\n",
              "      <td>0.136919</td>\n",
              "      <td>-0.284383</td>\n",
              "      <td>-8.719446</td>\n",
              "      <td>-11.930358</td>\n",
              "      <td>5.002145</td>\n",
              "      <td>-1.091729</td>\n",
              "      <td>-0.099787</td>\n",
              "      <td>-0.386716</td>\n",
              "      <td>-16.010805</td>\n",
              "      <td>-44.335938</td>\n",
              "      <td>-11.625415</td>\n",
              "    </tr>\n",
              "    <tr>\n",
              "      <th>3</th>\n",
              "      <td>-0.813808</td>\n",
              "      <td>-0.031349</td>\n",
              "      <td>-0.121235</td>\n",
              "      <td>-19.797062</td>\n",
              "      <td>-33.422365</td>\n",
              "      <td>-20.788785</td>\n",
              "      <td>-0.515225</td>\n",
              "      <td>0.062341</td>\n",
              "      <td>0.021875</td>\n",
              "      <td>-8.996580</td>\n",
              "      <td>-15.352681</td>\n",
              "      <td>-6.288508</td>\n",
              "      <td>-1.078904</td>\n",
              "      <td>-0.161857</td>\n",
              "      <td>-0.347106</td>\n",
              "      <td>-27.668966</td>\n",
              "      <td>-46.604496</td>\n",
              "      <td>-26.785818</td>\n",
              "    </tr>\n",
              "    <tr>\n",
              "      <th>4</th>\n",
              "      <td>-1.128031</td>\n",
              "      <td>-0.099283</td>\n",
              "      <td>-0.015475</td>\n",
              "      <td>-13.461652</td>\n",
              "      <td>6.406275</td>\n",
              "      <td>-7.091798</td>\n",
              "      <td>-1.028974</td>\n",
              "      <td>-0.016371</td>\n",
              "      <td>0.072851</td>\n",
              "      <td>-2.020725</td>\n",
              "      <td>19.767963</td>\n",
              "      <td>2.520021</td>\n",
              "      <td>-1.211560</td>\n",
              "      <td>-0.210510</td>\n",
              "      <td>-0.131190</td>\n",
              "      <td>-23.657070</td>\n",
              "      <td>-7.729901</td>\n",
              "      <td>-18.966589</td>\n",
              "    </tr>\n",
              "    <tr>\n",
              "      <th>...</th>\n",
              "      <th>...</th>\n",
              "      <td>...</td>\n",
              "      <td>...</td>\n",
              "      <td>...</td>\n",
              "      <td>...</td>\n",
              "      <td>...</td>\n",
              "      <td>...</td>\n",
              "      <td>...</td>\n",
              "      <td>...</td>\n",
              "      <td>...</td>\n",
              "      <td>...</td>\n",
              "      <td>...</td>\n",
              "      <td>...</td>\n",
              "      <td>...</td>\n",
              "      <td>...</td>\n",
              "      <td>...</td>\n",
              "      <td>...</td>\n",
              "      <td>...</td>\n",
              "      <td>...</td>\n",
              "    </tr>\n",
              "    <tr>\n",
              "      <th rowspan=\"5\" valign=\"top\">3906</th>\n",
              "      <th>55</th>\n",
              "      <td>-0.230866</td>\n",
              "      <td>-0.685296</td>\n",
              "      <td>0.641896</td>\n",
              "      <td>7.458774</td>\n",
              "      <td>-32.682285</td>\n",
              "      <td>25.096298</td>\n",
              "      <td>-0.126623</td>\n",
              "      <td>-0.619428</td>\n",
              "      <td>0.705231</td>\n",
              "      <td>23.478517</td>\n",
              "      <td>-11.746544</td>\n",
              "      <td>37.068400</td>\n",
              "      <td>-0.317441</td>\n",
              "      <td>-0.717734</td>\n",
              "      <td>0.593273</td>\n",
              "      <td>-8.157926</td>\n",
              "      <td>-69.022030</td>\n",
              "      <td>8.471539</td>\n",
              "    </tr>\n",
              "    <tr>\n",
              "      <th>56</th>\n",
              "      <td>-0.089739</td>\n",
              "      <td>-0.692458</td>\n",
              "      <td>0.631095</td>\n",
              "      <td>-4.561985</td>\n",
              "      <td>25.074078</td>\n",
              "      <td>-12.085575</td>\n",
              "      <td>0.070696</td>\n",
              "      <td>-0.646014</td>\n",
              "      <td>0.690815</td>\n",
              "      <td>12.018507</td>\n",
              "      <td>49.694096</td>\n",
              "      <td>9.182680</td>\n",
              "      <td>-0.151182</td>\n",
              "      <td>-0.747808</td>\n",
              "      <td>0.581400</td>\n",
              "      <td>-18.180579</td>\n",
              "      <td>-8.227655</td>\n",
              "      <td>-31.036427</td>\n",
              "    </tr>\n",
              "    <tr>\n",
              "      <th>57</th>\n",
              "      <td>0.070699</td>\n",
              "      <td>-0.734292</td>\n",
              "      <td>0.574833</td>\n",
              "      <td>4.386570</td>\n",
              "      <td>29.634076</td>\n",
              "      <td>-52.753748</td>\n",
              "      <td>0.123645</td>\n",
              "      <td>-0.706429</td>\n",
              "      <td>0.612444</td>\n",
              "      <td>17.811190</td>\n",
              "      <td>40.050329</td>\n",
              "      <td>-32.137096</td>\n",
              "      <td>0.014201</td>\n",
              "      <td>-0.768554</td>\n",
              "      <td>0.495431</td>\n",
              "      <td>-6.206841</td>\n",
              "      <td>19.405557</td>\n",
              "      <td>-67.384476</td>\n",
              "    </tr>\n",
              "    <tr>\n",
              "      <th>58</th>\n",
              "      <td>-0.115750</td>\n",
              "      <td>-0.733167</td>\n",
              "      <td>0.630194</td>\n",
              "      <td>-20.266633</td>\n",
              "      <td>18.228857</td>\n",
              "      <td>-20.417178</td>\n",
              "      <td>0.005483</td>\n",
              "      <td>-0.539624</td>\n",
              "      <td>0.871977</td>\n",
              "      <td>2.684113</td>\n",
              "      <td>62.653680</td>\n",
              "      <td>5.857199</td>\n",
              "      <td>-0.295709</td>\n",
              "      <td>-0.873726</td>\n",
              "      <td>0.461520</td>\n",
              "      <td>-37.703669</td>\n",
              "      <td>-27.579613</td>\n",
              "      <td>-69.475716</td>\n",
              "    </tr>\n",
              "    <tr>\n",
              "      <th>59</th>\n",
              "      <td>0.084417</td>\n",
              "      <td>-0.818748</td>\n",
              "      <td>0.676649</td>\n",
              "      <td>-4.674313</td>\n",
              "      <td>6.456947</td>\n",
              "      <td>-153.468405</td>\n",
              "      <td>0.224194</td>\n",
              "      <td>-0.613487</td>\n",
              "      <td>0.896963</td>\n",
              "      <td>22.551919</td>\n",
              "      <td>35.962985</td>\n",
              "      <td>-90.967529</td>\n",
              "      <td>-0.241766</td>\n",
              "      <td>-0.958351</td>\n",
              "      <td>0.556780</td>\n",
              "      <td>-29.900725</td>\n",
              "      <td>-36.586219</td>\n",
              "      <td>-190.358982</td>\n",
              "    </tr>\n",
              "  </tbody>\n",
              "</table>\n",
              "<p>46920 rows × 18 columns</p>\n",
              "</div>"
            ],
            "text/plain": [
              "             acc_x_x   acc_y_x   acc_z_x  ...       gy_x       gy_y        gy_z\n",
              "id   group                                ...                                  \n",
              "3125 0     -0.442843 -0.053869 -0.263157  ... -23.759140  18.748804   -3.605706\n",
              "     1     -0.955634 -0.008549 -0.344066  ... -23.466845 -19.816078   -1.483997\n",
              "     2     -0.831829  0.016192 -0.328560  ... -16.010805 -44.335938  -11.625415\n",
              "     3     -0.813808 -0.031349 -0.121235  ... -27.668966 -46.604496  -26.785818\n",
              "     4     -1.128031 -0.099283 -0.015475  ... -23.657070  -7.729901  -18.966589\n",
              "...              ...       ...       ...  ...        ...        ...         ...\n",
              "3906 55    -0.230866 -0.685296  0.641896  ...  -8.157926 -69.022030    8.471539\n",
              "     56    -0.089739 -0.692458  0.631095  ... -18.180579  -8.227655  -31.036427\n",
              "     57     0.070699 -0.734292  0.574833  ...  -6.206841  19.405557  -67.384476\n",
              "     58    -0.115750 -0.733167  0.630194  ... -37.703669 -27.579613  -69.475716\n",
              "     59     0.084417 -0.818748  0.676649  ... -29.900725 -36.586219 -190.358982\n",
              "\n",
              "[46920 rows x 18 columns]"
            ]
          },
          "metadata": {
            "tags": []
          },
          "execution_count": 197
        }
      ]
    },
    {
      "cell_type": "code",
      "metadata": {
        "id": "xbGa4BaplLlR"
      },
      "source": [
        ""
      ],
      "execution_count": null,
      "outputs": []
    }
  ]
}